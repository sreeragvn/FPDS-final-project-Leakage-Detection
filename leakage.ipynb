{
 "cells": [
  {
   "cell_type": "code",
   "execution_count": 1,
   "metadata": {},
   "outputs": [
    {
     "name": "stderr",
     "output_type": "stream",
     "text": [
      "2023-01-28 16:04:28.481705: I tensorflow/core/platform/cpu_feature_guard.cc:193] This TensorFlow binary is optimized with oneAPI Deep Neural Network Library (oneDNN) to use the following CPU instructions in performance-critical operations:  SSE4.1 SSE4.2 AVX AVX2 FMA\n",
      "To enable them in other operations, rebuild TensorFlow with the appropriate compiler flags.\n"
     ]
    },
    {
     "name": "stdout",
     "output_type": "stream",
     "text": [
      "# GPUs Available:  1\n"
     ]
    },
    {
     "name": "stderr",
     "output_type": "stream",
     "text": [
      "2023-01-28 16:04:31.051371: I tensorflow/stream_executor/cuda/cuda_gpu_executor.cc:980] successful NUMA node read from SysFS had negative value (-1), but there must be at least one NUMA node, so returning NUMA node zero\n",
      "2023-01-28 16:04:31.140409: I tensorflow/stream_executor/cuda/cuda_gpu_executor.cc:980] successful NUMA node read from SysFS had negative value (-1), but there must be at least one NUMA node, so returning NUMA node zero\n",
      "2023-01-28 16:04:31.140879: I tensorflow/stream_executor/cuda/cuda_gpu_executor.cc:980] successful NUMA node read from SysFS had negative value (-1), but there must be at least one NUMA node, so returning NUMA node zero\n"
     ]
    }
   ],
   "source": [
    "import os\n",
    "# os.environ['TF_CPP_MIN_LOG_LEVEL'] = '2'\n",
    "os.environ['CUDA_VISIBLE_DEVICES'] = \"0\"\n",
    "\n",
    "import matplotlib.pyplot as plt\n",
    "import matplotlib.colors as mcolors\n",
    "import numpy as np\n",
    "import pandas as pd\n",
    "import seaborn as sns\n",
    "import tensorflow as tf\n",
    "# import tensorflow_datasets as tfds\n",
    "\n",
    "from sklearn.metrics import mean_squared_error\n",
    "from tensorflow import keras\n",
    "from keras import layers\n",
    "# from sklearn import preprocessing\n",
    "# Make numpy values easier to read.\n",
    "# np.set_printoptions(precision=3, suppress=True)\n",
    "\n",
    "# physical_devices = tf.config.list_physical_devices(\"gpu\")\n",
    "print(\"# GPUs Available: \", len(tf.config.experimental.list_physical_devices('GPU')))\n",
    "# tf.config.experimental.set_memory_growth(physical_devices[0], True)\n",
    "\n",
    "tf.keras.backend.set_floatx('float64')\n",
    "tf.compat.v1.enable_eager_execution()"
   ]
  },
  {
   "cell_type": "code",
   "execution_count": 2,
   "metadata": {},
   "outputs": [],
   "source": [
    "# preprocessing of data\n",
    "\n",
    "leakage_train_100 = pd.read_csv(\"leakage_dataset_train_100.csv\")\n",
    "leakage_train_1000 = pd.read_csv(\"leakage_dataset_train_1000.csv\")\n",
    "leakage_val_1000 = pd.read_csv(\"leakage_dataset_validation_1000.csv\")\n",
    "\n",
    "# leakage_train_100.head()\n",
    "# leakage_val_1000.head()\n",
    "\n",
    "#create two output arrays\n",
    "def format_output(data):\n",
    "    data = data.copy()\n",
    "    y1 = data.pop('y1')\n",
    "    y1 = np.array(y1)\n",
    "    y2 = data.pop('y2')\n",
    "    y2 = np.array(y2)\n",
    "    return y1, y2\n",
    "\n",
    "X_train = leakage_train_100.iloc[:,2:].to_numpy()\n",
    "Y_train = leakage_train_100.iloc[:,:2]\n",
    "\n",
    "#splitting of x and y variable\n",
    "# X_train = leakage_train_1000.iloc[:,2:].to_numpy()\n",
    "# Y_train = leakage_train_1000.iloc[:,:2]\n",
    "\n",
    "num_rows, num_cols = X_train.shape\n",
    "\n",
    "X_validation = leakage_val_1000.iloc[:,2:].to_numpy()\n",
    "Y_validation = leakage_val_1000.iloc[:,:2]\n",
    "\n",
    "# scX = preprocessing.StandardScaler()\n",
    "# X_train = scX.fit_transform(X_train)\n",
    "# X_validation = scX.transform(X_validation)\n",
    "\n",
    "# stY = preprocessing.StandardScaler()\n",
    "# Y_train = stY.fit_transform(Y_train)\n",
    "# Y_validation = stY.transform(Y_validation)\n",
    "\n",
    "# Y_train = pd.DataFrame(Y_train, columns = ['y1','y2'])\n",
    "# Y_validation = pd.DataFrame(Y_validation, columns = ['y1','y2'])\n",
    "\n",
    "y1_train, y2_train = format_output(Y_train)\n",
    "y1_validation, y2_validation = format_output(Y_validation)\n",
    "\n",
    "Y_train = Y_train.to_numpy()\n",
    "Y_validation = Y_validation.to_numpy()"
   ]
  },
  {
   "cell_type": "code",
   "execution_count": 3,
   "metadata": {},
   "outputs": [
    {
     "name": "stdout",
     "output_type": "stream",
     "text": [
      "Model: \"leakge_functional_model\"\n",
      "__________________________________________________________________________________________________\n",
      " Layer (type)                   Output Shape         Param #     Connected to                     \n",
      "==================================================================================================\n",
      " input_1 (InputLayer)           [(None, 4)]          0           []                               \n",
      "                                                                                                  \n",
      " dense (Dense)                  (None, 4)            20          ['input_1[0][0]']                \n",
      "                                                                                                  \n",
      " y1 (Dense)                     (None, 1)            5           ['dense[0][0]']                  \n",
      "                                                                                                  \n",
      " y2 (Dense)                     (None, 1)            5           ['dense[0][0]']                  \n",
      "                                                                                                  \n",
      "==================================================================================================\n",
      "Total params: 30\n",
      "Trainable params: 30\n",
      "Non-trainable params: 0\n",
      "__________________________________________________________________________________________________\n",
      "None\n",
      "Epoch 1/5\n"
     ]
    },
    {
     "name": "stderr",
     "output_type": "stream",
     "text": [
      "2023-01-28 16:04:31.276605: I tensorflow/core/platform/cpu_feature_guard.cc:193] This TensorFlow binary is optimized with oneAPI Deep Neural Network Library (oneDNN) to use the following CPU instructions in performance-critical operations:  SSE4.1 SSE4.2 AVX AVX2 FMA\n",
      "To enable them in other operations, rebuild TensorFlow with the appropriate compiler flags.\n",
      "2023-01-28 16:04:31.277371: I tensorflow/stream_executor/cuda/cuda_gpu_executor.cc:980] successful NUMA node read from SysFS had negative value (-1), but there must be at least one NUMA node, so returning NUMA node zero\n",
      "2023-01-28 16:04:31.277784: I tensorflow/stream_executor/cuda/cuda_gpu_executor.cc:980] successful NUMA node read from SysFS had negative value (-1), but there must be at least one NUMA node, so returning NUMA node zero\n",
      "2023-01-28 16:04:31.278094: I tensorflow/stream_executor/cuda/cuda_gpu_executor.cc:980] successful NUMA node read from SysFS had negative value (-1), but there must be at least one NUMA node, so returning NUMA node zero\n",
      "2023-01-28 16:04:32.358081: I tensorflow/stream_executor/cuda/cuda_gpu_executor.cc:980] successful NUMA node read from SysFS had negative value (-1), but there must be at least one NUMA node, so returning NUMA node zero\n",
      "2023-01-28 16:04:32.358267: I tensorflow/stream_executor/cuda/cuda_gpu_executor.cc:980] successful NUMA node read from SysFS had negative value (-1), but there must be at least one NUMA node, so returning NUMA node zero\n",
      "2023-01-28 16:04:32.358414: I tensorflow/stream_executor/cuda/cuda_gpu_executor.cc:980] successful NUMA node read from SysFS had negative value (-1), but there must be at least one NUMA node, so returning NUMA node zero\n",
      "2023-01-28 16:04:32.358543: I tensorflow/core/common_runtime/gpu/gpu_device.cc:1616] Created device /job:localhost/replica:0/task:0/device:GPU:0 with 2401 MB memory:  -> device: 0, name: NVIDIA GeForce GTX 1650 Ti, pci bus id: 0000:01:00.0, compute capability: 7.5\n"
     ]
    },
    {
     "name": "stdout",
     "output_type": "stream",
     "text": [
      "20/20 - 2s - loss: 0.5022 - y1_loss: 0.3820 - y2_loss: 0.1202 - y1_accuracy: 0.0000e+00 - y2_accuracy: 0.0000e+00 - val_loss: 0.2885 - val_y1_loss: 0.1183 - val_y2_loss: 0.1702 - val_y1_accuracy: 0.0000e+00 - val_y2_accuracy: 0.0000e+00 - 2s/epoch - 97ms/step\n",
      "Epoch 2/5\n",
      "20/20 - 0s - loss: 0.1283 - y1_loss: 0.0959 - y2_loss: 0.0324 - y1_accuracy: 0.0000e+00 - y2_accuracy: 0.0000e+00 - val_loss: 0.0642 - val_y1_loss: 0.0455 - val_y2_loss: 0.0186 - val_y1_accuracy: 0.0000e+00 - val_y2_accuracy: 0.0000e+00 - 315ms/epoch - 16ms/step\n",
      "Epoch 3/5\n",
      "20/20 - 0s - loss: 0.0742 - y1_loss: 0.0271 - y2_loss: 0.0470 - y1_accuracy: 0.0000e+00 - y2_accuracy: 0.0000e+00 - val_loss: 0.0517 - val_y1_loss: 0.0354 - val_y2_loss: 0.0163 - val_y1_accuracy: 0.0000e+00 - val_y2_accuracy: 0.0000e+00 - 307ms/epoch - 15ms/step\n",
      "Epoch 4/5\n",
      "20/20 - 0s - loss: 0.0484 - y1_loss: 0.0296 - y2_loss: 0.0188 - y1_accuracy: 0.0000e+00 - y2_accuracy: 0.0000e+00 - val_loss: 0.0331 - val_y1_loss: 0.0200 - val_y2_loss: 0.0131 - val_y1_accuracy: 0.0000e+00 - val_y2_accuracy: 0.0000e+00 - 304ms/epoch - 15ms/step\n",
      "Epoch 5/5\n",
      "20/20 - 0s - loss: 0.0365 - y1_loss: 0.0209 - y2_loss: 0.0156 - y1_accuracy: 0.0000e+00 - y2_accuracy: 0.0000e+00 - val_loss: 0.0499 - val_y1_loss: 0.0241 - val_y2_loss: 0.0257 - val_y1_accuracy: 0.0000e+00 - val_y2_accuracy: 0.0000e+00 - 272ms/epoch - 14ms/step\n",
      "32/32 [==============================] - 0s 918us/step\n"
     ]
    }
   ],
   "source": [
    "tf.random.set_seed(42) \n",
    "\n",
    "# NN architechture - keras Functional API\n",
    "# Now we have one input layer, 1 hidden layer and 2 output layer - both connected to hidden layer\n",
    "# Thinking of adding a normalization layer or doing normalization before training\n",
    "# inputs = tf.keras.layers.Normalization(input_shape=[4,], axis=None)\n",
    "inputs = tf.keras.Input(shape=(4,))\n",
    "dense1 = tf.keras.layers.Dense(4, activation='relu')\n",
    "# dense2_1 = tf.keras.layers.Dense(1, activation = 'sigmoid', name = 'y1')\n",
    "# dense2_2 = tf.keras.layers.Dense(1, activation = 'sigmoid', name = 'y2')\n",
    "\n",
    "dense2_1 = tf.keras.layers.Dense(1, name = 'y1')\n",
    "dense2_2 = tf.keras.layers.Dense(1, name = 'y2')\n",
    "\n",
    "x=dense1(inputs)\n",
    "\n",
    "outputs1=dense2_1(x)\n",
    "outputs2=dense2_2(x)\n",
    "\n",
    "model = tf.keras.Model(inputs=inputs, outputs=[outputs1, outputs2], name = 'leakge_functional_model')\n",
    "\n",
    "print(model.summary())\n",
    "\n",
    "model.compile(optimizer=tf.keras.optimizers.Adam(learning_rate=0.1),\n",
    "              loss=tf.keras.losses.mean_squared_error,\n",
    "              metrics = ['accuracy']\n",
    ")\n",
    "\n",
    "y = {\n",
    "    \"y1\" : y1_train,\n",
    "    \"y2\" : y2_train\n",
    "}\n",
    "\n",
    "y_valid = {\n",
    "    \"y1\" : y1_validation,\n",
    "    \"y2\" : y2_validation\n",
    "}\n",
    "\n",
    "\n",
    "model.fit(X_train, y=y, epochs=5, batch_size=5, verbose=2, validation_data=(X_validation, y_valid))\n",
    "\n",
    "predictions = model.predict(X_validation)\n",
    "\n",
    "# even for a primilinary result, the loss is pretty good"
   ]
  },
  {
   "cell_type": "code",
   "execution_count": 4,
   "metadata": {},
   "outputs": [
    {
     "name": "stdout",
     "output_type": "stream",
     "text": [
      "rmse of y1:  0.15536266581320263\n",
      "rmse of y2:  0.16037245528171126\n"
     ]
    },
    {
     "data": {
      "image/png": "[encoded data removed]",
      "text/plain": [
       "<Figure size 640x480 with 2 Axes>"
      ]
     },
     "metadata": {},
     "output_type": "display_data"
    }
   ],
   "source": [
    "def prediction_accuracy(predictions, y1_validation, y2_validation): \n",
    "    y1 = predictions[0]\n",
    "    y2 = predictions[1]\n",
    "    fig, axs = plt.subplots(2)\n",
    "    # print(y1_validation.shape, y1.shape)\n",
    "    # print(y2_validation.shape, y2.shape)\n",
    "    # fig.suptitle('')\n",
    "    axs[0].scatter(y1_validation, y1)\n",
    "    axs[0].set_title('y1')\n",
    "    axs[1].scatter(y2_validation, y2)\n",
    "    axs[1].set_title('y2')\n",
    "    for ax in axs.flat:\n",
    "        ax.set(xlabel='true value', ylabel='predicted value')\n",
    "    for ax in axs.flat:\n",
    "        ax.label_outer()\n",
    "\n",
    "    print(\"rmse of y1: \", mean_squared_error(y1_validation, y1, squared=False))\n",
    "    print(\"rmse of y2: \", mean_squared_error(y2_validation, y2, squared=False))\n",
    "\n",
    "prediction_accuracy(predictions, y1_validation, y2_validation)"
   ]
  },
  {
   "cell_type": "code",
   "execution_count": 5,
   "metadata": {},
   "outputs": [
    {
     "name": "stdout",
     "output_type": "stream",
     "text": [
      "[<tf.Variable 'dense/kernel:0' shape=(4, 4) dtype=float64, numpy=\n",
      "array([[-1.04893969,  0.2695671 , -1.2546726 ,  0.89681621],\n",
      "       [ 0.18221442, -1.01079202,  1.15508906,  1.31885249],\n",
      "       [-0.33718303, -0.25512505,  1.08755916, -0.71204065],\n",
      "       [-1.12254919,  0.89869623, -0.51918077, -1.02408887]])>, <tf.Variable 'dense/bias:0' shape=(4,) dtype=float64, numpy=array([-0.60049948,  0.14850819,  0.31465631,  0.24069444])>]\n"
     ]
    }
   ],
   "source": [
    "print(model.layers[1].weights)"
   ]
  },
  {
   "cell_type": "code",
   "execution_count": 6,
   "metadata": {},
   "outputs": [],
   "source": [
    "# data Augmentation\n",
    "# Requires cleaning up\n",
    "\n",
    "def rotation_matrix(angle):\n",
    "    theta = np.radians(angle)\n",
    "    c, s = np.cos(theta), np.sin(theta)\n",
    "    R = np.array(((c, -s), (s, c)))\n",
    "    return R\n",
    "\n",
    "def Augmentation_clock(x,y):\n",
    "\n",
    "    x = x.copy()\n",
    "    y = y.copy()\n",
    "    # print(y)\n",
    "    y_aug = np.transpose(np.matmul(rotation_matrix(-90), np.transpose(y)))\n",
    "    # print(y_aug)\n",
    "\n",
    "    temp = x.copy()\n",
    "    x0 = temp[:,0]\n",
    "    x1 = temp[:,1]\n",
    "    x2 = temp[:,2]\n",
    "    x3 = temp[:,3]\n",
    "\n",
    "    # print(x0.shape)\n",
    "\n",
    "    x[:,0] = x3\n",
    "    x[:,1] = x0\n",
    "    x[:,2] = x1\n",
    "    x[:,3] = x2\n",
    " \n",
    "    return x,y_aug\n",
    "\n",
    "\n",
    "def Augmentation_flip(x,y):\n",
    "    x = x.copy()\n",
    "    y = y.copy()\n",
    "    x = np.flip(x, axis=1)\n",
    "    y[:,1] = -1 * y[:,1]\n",
    "    return x,y\n",
    "\n",
    "def Augmentation_anticlock(x,y):\n",
    "\n",
    "    x = x.copy()\n",
    "    y = y.copy()\n",
    "    y_aug = np.transpose(np.matmul(rotation_matrix(90), np.transpose(y)))\n",
    "\n",
    "    temp = x.copy()\n",
    "    x0 = temp[:,0]\n",
    "    x1 = temp[:,1]\n",
    "    x2 = temp[:,2]\n",
    "    x3 = temp[:,3]\n",
    "\n",
    "    x[:,0] = x1\n",
    "    x[:,1] = x2\n",
    "    x[:,2] = x3\n",
    "    x[:,3] = x0\n",
    " \n",
    "    return x,y_aug\n",
    "\n",
    "# # test inputs\n",
    "# X_train = np.array([[1,2,3,4], [5,6,7,8], [9,10,11,12]])\n",
    "# # print(X_train)\n",
    "# Y_train = np.array([[15,16], [17,18], [19,20]])\n",
    "# num_rows, num_cols = X_train.shape\n",
    "\n",
    "def data_augmentation(x,y):\n",
    "    x_aug1,y_aug1 = Augmentation_clock(x, y)\n",
    "    x_aug2,y_aug2 = Augmentation_clock(x_aug1,y_aug1)\n",
    "    x_aug3,y_aug3 = Augmentation_clock(x_aug2,y_aug2)\n",
    "    x_aug4,y_aug4 = Augmentation_flip(x_aug3,y_aug3)\n",
    "    x_aug5,y_aug5 = Augmentation_clock(x_aug4,y_aug4)\n",
    "    x_aug6,y_aug6 = Augmentation_clock(x_aug5,y_aug5)\n",
    "    x_aug7,y_aug7 = Augmentation_clock(x_aug6,y_aug6)\n",
    "    X_train_Aug = np.concatenate((x, x_aug1, x_aug2, x_aug3, x_aug4, x_aug5, x_aug6, x_aug7))\n",
    "    Y_train_Aug = np.concatenate((y, y_aug1, y_aug2, y_aug3, y_aug4, y_aug5, y_aug6, y_aug7))\n",
    "\n",
    "    return X_train_Aug, Y_train_Aug\n",
    "\n",
    "X_train_Aug, Y_train_Aug = data_augmentation(X_train, Y_train)\n",
    "X_validation_Aug, Y_validation_Aug = data_augmentation(X_validation, Y_validation)"
   ]
  },
  {
   "cell_type": "code",
   "execution_count": 7,
   "metadata": {},
   "outputs": [
    {
     "name": "stdout",
     "output_type": "stream",
     "text": [
      "Model: \"leakge_aug_functional_model\"\n",
      "__________________________________________________________________________________________________\n",
      " Layer (type)                   Output Shape         Param #     Connected to                     \n",
      "==================================================================================================\n",
      " input_2 (InputLayer)           [(None, 4)]          0           []                               \n",
      "                                                                                                  \n",
      " dense_1 (Dense)                (None, 4)            20          ['input_2[0][0]']                \n",
      "                                                                                                  \n",
      " y1 (Dense)                     (None, 1)            5           ['dense_1[0][0]']                \n",
      "                                                                                                  \n",
      " y2 (Dense)                     (None, 1)            5           ['dense_1[0][0]']                \n",
      "                                                                                                  \n",
      "==================================================================================================\n",
      "Total params: 30\n",
      "Trainable params: 30\n",
      "Non-trainable params: 0\n",
      "__________________________________________________________________________________________________\n",
      "None\n",
      "Epoch 1/5\n",
      "160/160 - 3s - loss: 0.7184 - y1_loss: 0.3590 - y2_loss: 0.3594 - y1_accuracy: 0.0000e+00 - y2_accuracy: 0.0000e+00 - val_loss: 0.6670 - val_y1_loss: 0.3335 - val_y2_loss: 0.3335 - val_y1_accuracy: 0.0000e+00 - val_y2_accuracy: 0.0000e+00 - 3s/epoch - 18ms/step\n",
      "Epoch 2/5\n",
      "160/160 - 2s - loss: 0.7019 - y1_loss: 0.3546 - y2_loss: 0.3473 - y1_accuracy: 0.0000e+00 - y2_accuracy: 0.0000e+00 - val_loss: 0.6970 - val_y1_loss: 0.3395 - val_y2_loss: 0.3575 - val_y1_accuracy: 0.0000e+00 - val_y2_accuracy: 0.0000e+00 - 2s/epoch - 15ms/step\n",
      "Epoch 3/5\n",
      "160/160 - 3s - loss: 0.7069 - y1_loss: 0.3561 - y2_loss: 0.3508 - y1_accuracy: 0.0000e+00 - y2_accuracy: 0.0000e+00 - val_loss: 0.6766 - val_y1_loss: 0.3363 - val_y2_loss: 0.3403 - val_y1_accuracy: 0.0000e+00 - val_y2_accuracy: 0.0000e+00 - 3s/epoch - 17ms/step\n",
      "Epoch 4/5\n",
      "160/160 - 3s - loss: 0.7079 - y1_loss: 0.3523 - y2_loss: 0.3557 - y1_accuracy: 0.0000e+00 - y2_accuracy: 0.0000e+00 - val_loss: 0.7974 - val_y1_loss: 0.4581 - val_y2_loss: 0.3393 - val_y1_accuracy: 0.0000e+00 - val_y2_accuracy: 0.0000e+00 - 3s/epoch - 19ms/step\n",
      "Epoch 5/5\n",
      "160/160 - 3s - loss: 0.7212 - y1_loss: 0.3649 - y2_loss: 0.3563 - y1_accuracy: 0.0000e+00 - y2_accuracy: 0.0000e+00 - val_loss: 0.7147 - val_y1_loss: 0.3671 - val_y2_loss: 0.3476 - val_y1_accuracy: 0.0000e+00 - val_y2_accuracy: 0.0000e+00 - 3s/epoch - 18ms/step\n",
      "250/250 [==============================] - 0s 1ms/step\n"
     ]
    }
   ],
   "source": [
    "# tf.random.set_seed(42) \n",
    "\n",
    "# Model trained on Augmented dataset\n",
    "# Now we have one input layer, 1 hidden layer and 2 output layer - both connected to hidden layer\n",
    "# Thinking of adding a normalization layer or doing normalization before training\n",
    "# inputs = tf.keras.layers.Normalization(input_shape=[4,], axis=None)\n",
    "inputs = tf.keras.Input(shape=(4,))\n",
    "dense1 = tf.keras.layers.Dense(4, activation='relu')\n",
    "# dense2_1 = tf.keras.layers.Dense(1, activation = 'sigmoid', name = 'y1')\n",
    "# dense2_2 = tf.keras.layers.Dense(1, activation = 'sigmoid', name = 'y2')\n",
    "\n",
    "dense2_1 = tf.keras.layers.Dense(1, name = 'y1')\n",
    "dense2_2 = tf.keras.layers.Dense(1, name = 'y2')\n",
    "\n",
    "x=dense1(inputs)\n",
    "\n",
    "outputs1=dense2_1(x)\n",
    "outputs2=dense2_2(x)\n",
    "\n",
    "model = tf.keras.Model(inputs=inputs, outputs=[outputs1, outputs2], name = 'leakge_aug_functional_model')\n",
    "\n",
    "print(model.summary())\n",
    "\n",
    "model.compile(optimizer=tf.keras.optimizers.Adam(learning_rate=0.1),\n",
    "              loss=tf.keras.losses.mean_squared_error,\n",
    "              metrics = ['accuracy']\n",
    ")\n",
    "\n",
    "y_aug = {\n",
    "    \"y1\" : Y_train_Aug[:,0],\n",
    "    \"y2\" : Y_train_Aug[:,1]\n",
    "}\n",
    "\n",
    "y_aug_valid = {\n",
    "    \"y1\" : Y_validation_Aug[:,0],\n",
    "    \"y2\" : Y_validation_Aug[:,1]\n",
    "}\n",
    "\n",
    "\n",
    "model.fit(X_train_Aug, y=y_aug, epochs=5, batch_size=5, verbose=2, validation_data=(X_validation_Aug, y_aug_valid))\n",
    "\n",
    "predictions = model.predict(X_validation_Aug)\n",
    "\n",
    "# even for a primilinary result, the loss is pretty good"
   ]
  },
  {
   "cell_type": "code",
   "execution_count": 8,
   "metadata": {},
   "outputs": [
    {
     "name": "stdout",
     "output_type": "stream",
     "text": [
      "rmse of y1:  0.6059062408327507\n",
      "rmse of y2:  0.5895675450635222\n"
     ]
    },
    {
     "data": {
      "image/png": "[encoded data removed]",
      "text/plain": [
       "<Figure size 640x480 with 2 Axes>"
      ]
     },
     "metadata": {},
     "output_type": "display_data"
    }
   ],
   "source": [
    "prediction_accuracy(predictions, Y_validation_Aug[:,0], Y_validation_Aug[:,1])"
   ]
  },
  {
   "cell_type": "code",
   "execution_count": 9,
   "metadata": {},
   "outputs": [],
   "source": [
    "# class EquivariantLayer(layers.Layer):\n",
    "#     def _init_(self, **kwargs):\n",
    "#         super(EquivariantLayer, self)._init_(**kwargs)\n",
    "\n",
    "#     def build(self, input_shape):\n",
    "#         # Create a weight matrix with the specified structure\n",
    "#         self.a = tf.Variable(tf.random.normal(shape=(input_shape[1], input_shape[1]), mean=0.0, stddev=1.0))\n",
    "#         self.b = tf.Variable(tf.random.normal(shape=(input_shape[1], input_shape[1]), mean=0.0, stddev=1.0))\n",
    "#         self.c = tf.Variable(tf.random.normal(shape=(input_shape[1], input_shape[1]), mean=0.0, stddev=1.0))\n",
    "#         self.W = tf.Variable(self.a + self.b + self.c, shape=(input_shape[1], input_shape[1]), dtype=tf.float32)\n",
    "\n",
    "#     def call(self, inputs):\n",
    "#         return tf.matmul(inputs, self.W)\n",
    "\n",
    "# class EquivariantOutputLayer(layers.Layer):\n",
    "#     def _init_(self, **kwargs):\n",
    "#         super(EquivariantOutputLayer, self)._init_(**kwargs)\n",
    "\n",
    "#     def build(self, input_shape):\n",
    "#         # Create a weight matrix with the specified structure\n",
    "#         self.d = tf.Variable(tf.random.normal(shape=(1, 1), mean=0.0, stddev=1.0))\n",
    "#         self.W = tf.Variable(self.d*np.array([[1,-1,-1,1],[-1,-1,1,1]]), shape=(input_shape[1], 2), dtype=tf.float32)\n",
    "\n",
    "#     def call(self, inputs):\n",
    "#         return tf.matmul(inputs, self.W)\n",
    "\n",
    "# # Create a model using the custom layers\n",
    "# inputs = tf.keras.Input(shape=(4,))\n",
    "# x = EquivariantLayer()(inputs)\n",
    "# x = EquivariantOutputLayer()(x)\n",
    "# model = tf.keras.Model(inputs=inputs, outputs=x)\n",
    "\n",
    "# # Compile and train the model\n",
    "# model.compile(optimizer='adam', loss='mse')\n",
    "# model.fit(x_train, y_train, epochs=100)\n",
    "\n",
    "# #save the model\n",
    "# model.save(\"model_equivariant.h5\")"
   ]
  },
  {
   "cell_type": "code",
   "execution_count": 32,
   "metadata": {},
   "outputs": [
    {
     "name": "stdout",
     "output_type": "stream",
     "text": [
      "Epoch 1/5\n"
     ]
    },
    {
     "ename": "ValueError",
     "evalue": "in user code:\n\n    File \"/home/vn/miniconda3/envs/fpds/lib/python3.9/site-packages/keras/engine/training.py\", line 1160, in train_function  *\n        return step_function(self, iterator)\n    File \"/home/vn/miniconda3/envs/fpds/lib/python3.9/site-packages/keras/engine/training.py\", line 1146, in step_function  **\n        outputs = model.distribute_strategy.run(run_step, args=(data,))\n    File \"/home/vn/miniconda3/envs/fpds/lib/python3.9/site-packages/keras/engine/training.py\", line 1135, in run_step  **\n        outputs = model.train_step(data)\n    File \"/home/vn/miniconda3/envs/fpds/lib/python3.9/site-packages/keras/engine/training.py\", line 993, in train_step\n        y_pred = self(x, training=True)\n    File \"/home/vn/miniconda3/envs/fpds/lib/python3.9/site-packages/keras/utils/traceback_utils.py\", line 70, in error_handler\n        raise e.with_traceback(filtered_tb) from None\n    File \"/tmp/__autograph_generated_filezxr6k0k1.py\", line 10, in tf__call\n        x = ag__.converted_call(ag__.ld(self).relu, (ag__.converted_call(ag__.ld(self).dense1, (ag__.ld(x),), None, fscope),), None, fscope)\n    File \"/tmp/__autograph_generated_file6pvswm9q.py\", line 13, in tf__call\n        retval_ = ag__.converted_call(ag__.ld(tf).matmul, (ag__.ld(inputs), ag__.ld(self).W), None, fscope)\n\n    ValueError: Exception encountered when calling layer \"my_model_12\" \"                 f\"(type MyModel).\n    \n    in user code:\n    \n        File \"/tmp/ipykernel_5930/2608570407.py\", line 65, in call  *\n            x = self.relu(self.dense1(x))\n        File \"/home/vn/miniconda3/envs/fpds/lib/python3.9/site-packages/keras/utils/traceback_utils.py\", line 70, in error_handler  **\n            raise e.with_traceback(filtered_tb) from None\n        File \"/tmp/__autograph_generated_file6pvswm9q.py\", line 13, in tf__call\n            retval_ = ag__.converted_call(ag__.ld(tf).matmul, (ag__.ld(inputs), ag__.ld(self).W), None, fscope)\n    \n        ValueError: Exception encountered when calling layer \"hidden_layer_12\" \"                 f\"(type Hidden_layer).\n        \n        in user code:\n        \n            File \"/tmp/ipykernel_5930/510116199.py\", line 28, in call  *\n                return tf.matmul(inputs, self.W)\n        \n            ValueError: Dimensions must be equal, but are 4 and 1 for '{{node my_model_12/hidden_layer_12/MatMul}} = BatchMatMulV2[T=DT_DOUBLE, adj_x=false, adj_y=false](IteratorGetNext, my_model_12/hidden_layer_12/MatMul/ReadVariableOp)' with input shapes: [5,4], [4,4,1,1].\n        \n        \n        Call arguments received by layer \"hidden_layer_12\" \"                 f\"(type Hidden_layer):\n          • inputs=tf.Tensor(shape=(5, 4), dtype=float64)\n    \n    \n    Call arguments received by layer \"my_model_12\" \"                 f\"(type MyModel):\n      • x=tf.Tensor(shape=(5, 4), dtype=float64)\n",
     "output_type": "error",
     "traceback": [
      "\u001b[0;31m---------------------------------------------------------------------------\u001b[0m",
      "\u001b[0;31mValueError\u001b[0m                                Traceback (most recent call last)",
      "Cell \u001b[0;32mIn[32], line 81\u001b[0m\n\u001b[1;32m     74\u001b[0m \u001b[39m# model.build_graph().summary()\u001b[39;00m\n\u001b[1;32m     76\u001b[0m model\u001b[39m.\u001b[39mcompile(optimizer\u001b[39m=\u001b[39mtf\u001b[39m.\u001b[39mkeras\u001b[39m.\u001b[39moptimizers\u001b[39m.\u001b[39mAdam(learning_rate\u001b[39m=\u001b[39m\u001b[39m0.1\u001b[39m),\n\u001b[1;32m     77\u001b[0m               loss\u001b[39m=\u001b[39m[\u001b[39m'\u001b[39m\u001b[39mmean_squared_error\u001b[39m\u001b[39m'\u001b[39m],\n\u001b[1;32m     78\u001b[0m               metrics \u001b[39m=\u001b[39m [\u001b[39m'\u001b[39m\u001b[39maccuracy\u001b[39m\u001b[39m'\u001b[39m]\n\u001b[1;32m     79\u001b[0m )\n\u001b[0;32m---> 81\u001b[0m model\u001b[39m.\u001b[39;49mfit(X_train, y\u001b[39m=\u001b[39;49mY_train, epochs\u001b[39m=\u001b[39;49m\u001b[39m5\u001b[39;49m, batch_size\u001b[39m=\u001b[39;49m\u001b[39m5\u001b[39;49m, verbose\u001b[39m=\u001b[39;49m\u001b[39m2\u001b[39;49m)\n\u001b[1;32m     84\u001b[0m \u001b[39m# a = tf.Variable(1., name='a', trainable=True)\u001b[39;00m\n\u001b[1;32m     85\u001b[0m \u001b[39m# b = tf.Variable(1., name='b', trainable=True)\u001b[39;00m\n\u001b[1;32m     86\u001b[0m \u001b[39m# c = tf.Variable(1., name='c', trainable=True)\u001b[39;00m\n\u001b[0;32m   (...)\u001b[0m\n\u001b[1;32m     93\u001b[0m \u001b[39m#     loss = y\u001b[39;00m\n\u001b[1;32m     94\u001b[0m \u001b[39m# print(*tape.gradient(loss, w), sep='\\n')\u001b[39;00m\n",
      "File \u001b[0;32m~/miniconda3/envs/fpds/lib/python3.9/site-packages/keras/utils/traceback_utils.py:70\u001b[0m, in \u001b[0;36mfilter_traceback.<locals>.error_handler\u001b[0;34m(*args, **kwargs)\u001b[0m\n\u001b[1;32m     67\u001b[0m     filtered_tb \u001b[39m=\u001b[39m _process_traceback_frames(e\u001b[39m.\u001b[39m__traceback__)\n\u001b[1;32m     68\u001b[0m     \u001b[39m# To get the full stack trace, call:\u001b[39;00m\n\u001b[1;32m     69\u001b[0m     \u001b[39m# `tf.debugging.disable_traceback_filtering()`\u001b[39;00m\n\u001b[0;32m---> 70\u001b[0m     \u001b[39mraise\u001b[39;00m e\u001b[39m.\u001b[39mwith_traceback(filtered_tb) \u001b[39mfrom\u001b[39;00m \u001b[39mNone\u001b[39m\n\u001b[1;32m     71\u001b[0m \u001b[39mfinally\u001b[39;00m:\n\u001b[1;32m     72\u001b[0m     \u001b[39mdel\u001b[39;00m filtered_tb\n",
      "File \u001b[0;32m/tmp/__autograph_generated_fileuq9hn6l4.py:15\u001b[0m, in \u001b[0;36mouter_factory.<locals>.inner_factory.<locals>.tf__train_function\u001b[0;34m(iterator)\u001b[0m\n\u001b[1;32m     13\u001b[0m \u001b[39mtry\u001b[39;00m:\n\u001b[1;32m     14\u001b[0m     do_return \u001b[39m=\u001b[39m \u001b[39mTrue\u001b[39;00m\n\u001b[0;32m---> 15\u001b[0m     retval_ \u001b[39m=\u001b[39m ag__\u001b[39m.\u001b[39mconverted_call(ag__\u001b[39m.\u001b[39mld(step_function), (ag__\u001b[39m.\u001b[39mld(\u001b[39mself\u001b[39m), ag__\u001b[39m.\u001b[39mld(iterator)), \u001b[39mNone\u001b[39;00m, fscope)\n\u001b[1;32m     16\u001b[0m \u001b[39mexcept\u001b[39;00m:\n\u001b[1;32m     17\u001b[0m     do_return \u001b[39m=\u001b[39m \u001b[39mFalse\u001b[39;00m\n",
      "File \u001b[0;32m/tmp/__autograph_generated_filezxr6k0k1.py:10\u001b[0m, in \u001b[0;36mouter_factory.<locals>.inner_factory.<locals>.tf__call\u001b[0;34m(self, x)\u001b[0m\n\u001b[1;32m      8\u001b[0m do_return \u001b[39m=\u001b[39m \u001b[39mFalse\u001b[39;00m\n\u001b[1;32m      9\u001b[0m retval_ \u001b[39m=\u001b[39m ag__\u001b[39m.\u001b[39mUndefinedReturnValue()\n\u001b[0;32m---> 10\u001b[0m x \u001b[39m=\u001b[39m ag__\u001b[39m.\u001b[39mconverted_call(ag__\u001b[39m.\u001b[39mld(\u001b[39mself\u001b[39m)\u001b[39m.\u001b[39mrelu, (ag__\u001b[39m.\u001b[39mconverted_call(ag__\u001b[39m.\u001b[39mld(\u001b[39mself\u001b[39m)\u001b[39m.\u001b[39mdense1, (ag__\u001b[39m.\u001b[39mld(x),), \u001b[39mNone\u001b[39;00m, fscope),), \u001b[39mNone\u001b[39;00m, fscope)\n\u001b[1;32m     11\u001b[0m \u001b[39mtry\u001b[39;00m:\n\u001b[1;32m     12\u001b[0m     do_return \u001b[39m=\u001b[39m \u001b[39mTrue\u001b[39;00m\n",
      "File \u001b[0;32m/tmp/__autograph_generated_file6pvswm9q.py:13\u001b[0m, in \u001b[0;36mouter_factory.<locals>.inner_factory.<locals>.tf__call\u001b[0;34m(self, inputs)\u001b[0m\n\u001b[1;32m     11\u001b[0m \u001b[39mtry\u001b[39;00m:\n\u001b[1;32m     12\u001b[0m     do_return \u001b[39m=\u001b[39m \u001b[39mTrue\u001b[39;00m\n\u001b[0;32m---> 13\u001b[0m     retval_ \u001b[39m=\u001b[39m ag__\u001b[39m.\u001b[39mconverted_call(ag__\u001b[39m.\u001b[39mld(tf)\u001b[39m.\u001b[39mmatmul, (ag__\u001b[39m.\u001b[39mld(inputs), ag__\u001b[39m.\u001b[39mld(\u001b[39mself\u001b[39m)\u001b[39m.\u001b[39mW), \u001b[39mNone\u001b[39;00m, fscope)\n\u001b[1;32m     14\u001b[0m \u001b[39mexcept\u001b[39;00m:\n\u001b[1;32m     15\u001b[0m     do_return \u001b[39m=\u001b[39m \u001b[39mFalse\u001b[39;00m\n",
      "\u001b[0;31mValueError\u001b[0m: in user code:\n\n    File \"/home/vn/miniconda3/envs/fpds/lib/python3.9/site-packages/keras/engine/training.py\", line 1160, in train_function  *\n        return step_function(self, iterator)\n    File \"/home/vn/miniconda3/envs/fpds/lib/python3.9/site-packages/keras/engine/training.py\", line 1146, in step_function  **\n        outputs = model.distribute_strategy.run(run_step, args=(data,))\n    File \"/home/vn/miniconda3/envs/fpds/lib/python3.9/site-packages/keras/engine/training.py\", line 1135, in run_step  **\n        outputs = model.train_step(data)\n    File \"/home/vn/miniconda3/envs/fpds/lib/python3.9/site-packages/keras/engine/training.py\", line 993, in train_step\n        y_pred = self(x, training=True)\n    File \"/home/vn/miniconda3/envs/fpds/lib/python3.9/site-packages/keras/utils/traceback_utils.py\", line 70, in error_handler\n        raise e.with_traceback(filtered_tb) from None\n    File \"/tmp/__autograph_generated_filezxr6k0k1.py\", line 10, in tf__call\n        x = ag__.converted_call(ag__.ld(self).relu, (ag__.converted_call(ag__.ld(self).dense1, (ag__.ld(x),), None, fscope),), None, fscope)\n    File \"/tmp/__autograph_generated_file6pvswm9q.py\", line 13, in tf__call\n        retval_ = ag__.converted_call(ag__.ld(tf).matmul, (ag__.ld(inputs), ag__.ld(self).W), None, fscope)\n\n    ValueError: Exception encountered when calling layer \"my_model_12\" \"                 f\"(type MyModel).\n    \n    in user code:\n    \n        File \"/tmp/ipykernel_5930/2608570407.py\", line 65, in call  *\n            x = self.relu(self.dense1(x))\n        File \"/home/vn/miniconda3/envs/fpds/lib/python3.9/site-packages/keras/utils/traceback_utils.py\", line 70, in error_handler  **\n            raise e.with_traceback(filtered_tb) from None\n        File \"/tmp/__autograph_generated_file6pvswm9q.py\", line 13, in tf__call\n            retval_ = ag__.converted_call(ag__.ld(tf).matmul, (ag__.ld(inputs), ag__.ld(self).W), None, fscope)\n    \n        ValueError: Exception encountered when calling layer \"hidden_layer_12\" \"                 f\"(type Hidden_layer).\n        \n        in user code:\n        \n            File \"/tmp/ipykernel_5930/510116199.py\", line 28, in call  *\n                return tf.matmul(inputs, self.W)\n        \n            ValueError: Dimensions must be equal, but are 4 and 1 for '{{node my_model_12/hidden_layer_12/MatMul}} = BatchMatMulV2[T=DT_DOUBLE, adj_x=false, adj_y=false](IteratorGetNext, my_model_12/hidden_layer_12/MatMul/ReadVariableOp)' with input shapes: [5,4], [4,4,1,1].\n        \n        \n        Call arguments received by layer \"hidden_layer_12\" \"                 f\"(type Hidden_layer):\n          • inputs=tf.Tensor(shape=(5, 4), dtype=float64)\n    \n    \n    Call arguments received by layer \"my_model_12\" \"                 f\"(type MyModel):\n      • x=tf.Tensor(shape=(5, 4), dtype=float64)\n"
     ]
    }
   ],
   "source": [
    "# Equivariance NN with subclassing API\n",
    "# These function make use of the subclassing Api and custom layer functionality of tensorflow\n",
    "# experiment\n",
    "\n",
    "class Hidden_layer(layers.Layer):\n",
    "    def __init__(self, units):\n",
    "        super(Hidden_layer, self).__init__()\n",
    "        self.units = units\n",
    "\n",
    "    def build(self, input_shape):\n",
    "        self.a = self.add_weight(shape=(1,1), initializer='random_normal', trainable=True)\n",
    "        self.b = self.add_weight(shape=(1,1), initializer='random_normal', trainable=True)\n",
    "        self.c = self.add_weight(shape=(1,1), initializer='random_normal', trainable=True)\n",
    "        self.W = tf.Variable(\n",
    "            [[self.a, self.b, self.c, self.b], \n",
    "             [self.b, self.a, self.b, self.c], \n",
    "             [self.c, self.b, self.a, self.b], \n",
    "             [self.b, self.c, self.b, self.a]],\n",
    "            trainable=True)\n",
    "            \n",
    "    def call(self, inputs):\n",
    "        return tf.matmul(inputs, self.W)\n",
    "\n",
    "class Output_layer(layers.Layer):\n",
    "    def __init__(self, units):\n",
    "        super(Output_layer, self).__init__()\n",
    "        self.units = units\n",
    "\n",
    "    def build(self, input_shape):\n",
    "        self.d = self.add_weight(shape=(1,), initializer='random_normal', trainable=True)\n",
    "        self.W = tf.Variable(\n",
    "            [[self.d,-self.d,-self.d,self.d], \n",
    "             [-self.d,-self.d,self.d,self.d]],\n",
    "            trainable=True)\n",
    "\n",
    "    def call(self, inputs):\n",
    "        return tf.matmul(inputs, self.W)\n",
    "\n",
    "class MyReLU(layers.Layer):\n",
    "    def __init__(self):\n",
    "        super(MyReLU, self).__init__()\n",
    "\n",
    "    def call(self, x):\n",
    "        return tf.math.maximum(x, 0)\n",
    "\n",
    "class MyModel(keras.Model):  # model.fit, model.evalute, model.predict\n",
    "    def __init__(self):\n",
    "        super(MyModel, self).__init__()\n",
    "        self.dense1 = Hidden_layer(4)\n",
    "        self.dense2_1 = Output_layer(2)\n",
    "        # self.dense2_2 = Output_layer(1)\n",
    "        self.relu = MyReLU()\n",
    "\n",
    "    def call(self, x):\n",
    "        x = self.relu(self.dense1(x))\n",
    "        # return {\"y1\" :self.dense2_1(x),\"y2\" : self.dense2_2(x)}\n",
    "        return self.dense2_1(x)\n",
    "\n",
    "    # def build_graph(self):\n",
    "    #     x = tf.keras.layers.Input(shape=(4))\n",
    "    #     return tf.keras.Model(inputs=[x], outputs=self.call(x))\n",
    "\n",
    "model = MyModel()\n",
    "# model.build_graph().summary()\n",
    "\n",
    "model.compile(optimizer=tf.keras.optimizers.Adam(learning_rate=0.1),\n",
    "              loss=['mean_squared_error'],\n",
    "              metrics = ['accuracy']\n",
    ")\n",
    "\n",
    "model.fit(X_train, y=Y_train, epochs=5, batch_size=5, verbose=2)\n",
    "\n",
    "\n",
    "# a = tf.Variable(1., name='a', trainable=True)\n",
    "# b = tf.Variable(1., name='b', trainable=True)\n",
    "# c = tf.Variable(1., name='c', trainable=True)\n",
    "# w = [[a, b, c, b], [b, a, b, c], [c, b, a, b], [b, c, b, a]]\n",
    "\n",
    "# x = tf.constant([[1., 2., 3., 4.]])\n",
    "# print(x)\n",
    "# with tf.GradientTape(persistent=True) as tape:\n",
    "#     y = x @ w\n",
    "#     loss = y\n",
    "# print(*tape.gradient(loss, w), sep='\\n')\n"
   ]
  },
  {
   "cell_type": "code",
   "execution_count": 12,
   "metadata": {},
   "outputs": [
    {
     "name": "stdout",
     "output_type": "stream",
     "text": [
      "[[1 2 3 2]\n",
      " [2 1 2 3]\n",
      " [3 2 1 2]\n",
      " [2 3 2 1]]\n"
     ]
    }
   ],
   "source": [
    "a = 1\n",
    "b = 2\n",
    "c = 3\n",
    "print(np.array([[a,b,c,b],[b,a,b,c],[c,b,a,b],[b,c,b,a]]))"
   ]
  },
  {
   "cell_type": "code",
   "execution_count": null,
   "metadata": {},
   "outputs": [],
   "source": [
    "\n",
    "predictions = (model.predict(X_validation))\n",
    "h1 = predictions[\"y1\"]\n",
    "h2 = predictions[\"y2\"]\n",
    "predictions = np.concatenate((h1, h2), axis = 1).transpose()\n",
    "# print(predictions[0].shape, Y_validation[:,0].shape)\n",
    "prediction_accuracy(predictions, Y_validation[:,0], Y_validation[:,1])\n"
   ]
  },
  {
   "cell_type": "code",
   "execution_count": 20,
   "metadata": {},
   "outputs": [
    {
     "name": "stdout",
     "output_type": "stream",
     "text": [
      "Model: \"leakge_functional_model\"\n",
      "_________________________________________________________________\n",
      " Layer (type)                Output Shape              Param #   \n",
      "=================================================================\n",
      " input_9 (InputLayer)        [(None, 4)]               0         \n",
      "                                                                 \n",
      " dense_8 (Dense)             (None, 4)                 20        \n",
      "                                                                 \n",
      " dense_9 (Dense)             (None, 2)                 10        \n",
      "                                                                 \n",
      "=================================================================\n",
      "Total params: 30\n",
      "Trainable params: 30\n",
      "Non-trainable params: 0\n",
      "_________________________________________________________________\n",
      "None\n",
      "Epoch 1/5\n",
      "20/20 - 0s - loss: 0.2544 - accuracy: 0.7100 - 221ms/epoch - 11ms/step\n",
      "Epoch 2/5\n",
      "20/20 - 0s - loss: 0.1784 - accuracy: 0.7400 - 28ms/epoch - 1ms/step\n",
      "Epoch 3/5\n",
      "20/20 - 0s - loss: 0.1637 - accuracy: 0.7200 - 34ms/epoch - 2ms/step\n",
      "Epoch 4/5\n",
      "20/20 - 0s - loss: 0.1268 - accuracy: 0.7300 - 38ms/epoch - 2ms/step\n",
      "Epoch 5/5\n",
      "20/20 - 0s - loss: 0.0642 - accuracy: 0.7900 - 27ms/epoch - 1ms/step\n",
      "32/32 [==============================] - 0s 957us/step\n"
     ]
    }
   ],
   "source": [
    "tf.random.set_seed(42) \n",
    "\n",
    "# NN architechture - keras Functional API\n",
    "# Now we have one input layer, 1 hidden layer and 2 output layer - both connected to hidden layer\n",
    "# Thinking of adding a normalization layer or doing normalization before training\n",
    "# inputs = tf.keras.layers.Normalization(input_shape=[4,], axis=None)\n",
    "inputs = tf.keras.Input(shape=(4,))\n",
    "dense1 = tf.keras.layers.Dense(4, activation='relu')\n",
    "# dense2_1 = tf.keras.layers.Dense(1, activation = 'sigmoid', name = 'y1')\n",
    "# dense2_2 = tf.keras.layers.Dense(1, activation = 'sigmoid', name = 'y2')\n",
    "\n",
    "dense2_1 = tf.keras.layers.Dense(2)\n",
    "\n",
    "x=dense1(inputs)\n",
    "\n",
    "outputs1=dense2_1(x)\n",
    "\n",
    "model = tf.keras.Model(inputs=inputs, outputs=outputs1, name = 'leakge_functional_model')\n",
    "\n",
    "print(model.summary())\n",
    "\n",
    "model.compile(optimizer=tf.keras.optimizers.Adam(learning_rate=0.1),\n",
    "              loss=tf.keras.losses.mean_squared_error,\n",
    "              metrics = ['accuracy']\n",
    ")\n",
    "\n",
    "y = {\n",
    "    \"y1\" : y1_train,\n",
    "    \"y2\" : y2_train\n",
    "}\n",
    "\n",
    "y_valid = {\n",
    "    \"y1\" : y1_validation,\n",
    "    \"y2\" : y2_validation\n",
    "}\n",
    "\n",
    "\n",
    "model.fit(X_train, y=Y_train, epochs=5, batch_size=5, verbose=2)\n",
    "\n",
    "predictions = model.predict(X_validation)\n",
    "\n",
    "# even for a primilinary result, the loss is pretty good"
   ]
  },
  {
   "cell_type": "code",
   "execution_count": 24,
   "metadata": {},
   "outputs": [
    {
     "name": "stdout",
     "output_type": "stream",
     "text": [
      "32/32 [==============================] - 0s 889us/step\n",
      "rmse of y1:  0.2726745896583084\n",
      "rmse of y2:  0.17659755194860835\n"
     ]
    },
    {
     "data": {
      "image/png": "[encoded data removed]",
      "text/plain": [
       "<Figure size 640x480 with 2 Axes>"
      ]
     },
     "metadata": {},
     "output_type": "display_data"
    }
   ],
   "source": [
    "\n",
    "predictions = (model.predict(X_validation))\n",
    "# print(predictions[0].shape, Y_validation[:,0].shape)\n",
    "prediction_accuracy(predictions.transpose(), Y_validation[:,0], Y_validation[:,1])\n"
   ]
  },
  {
   "cell_type": "code",
   "execution_count": null,
   "metadata": {},
   "outputs": [],
   "source": [
    "# failed experiment with Functional API\n",
    "\n",
    "# from keras.models import Model\n",
    "# from keras.layers import Dense, Input\n",
    "\n",
    "\n",
    "# def base_model(inputs):\n",
    "#     x= Dense(128, activation='relu')(inputs)\n",
    "#     x= Dense(128, activation='relu')(x)\n",
    "#     return x\n",
    "\n",
    "# def final_model(inputs):\n",
    "#     x = base_model(inputs)\n",
    "#     y1 = Dense(units='1', name='y1')(x)\n",
    "#     y2 = Dense(units = '1', name = 'y2')(x)\n",
    "#     model = Model(inputs=inputs, outputs = [y1, y2])\n",
    "    \n",
    "#     return model\n",
    "\n",
    "# inputs = tf.keras.layers.Input(shape=(4,))\n",
    "# model = final_model(inputs)\n",
    "\n",
    "# model.compile(optimizer=tf.keras.optimizers.Adam(learning_rate=0.1),\n",
    "#               loss=tf.keras.losses.mean_absolute_error,\n",
    "#               metrics = ['mae'])\n",
    "# y = {\n",
    "#     \"y1\" : y1_train,\n",
    "#     \"y2\" : y2_train\n",
    "# }\n",
    "\n",
    "# history = model.fit(X_train, y, epochs=400)"
   ]
  }
 ],
 "metadata": {
  "kernelspec": {
   "display_name": "fpds",
   "language": "python",
   "name": "python3"
  },
  "language_info": {
   "codemirror_mode": {
    "name": "ipython",
    "version": 3
   },
   "file_extension": ".py",
   "mimetype": "text/x-python",
   "name": "python",
   "nbconvert_exporter": "python",
   "pygments_lexer": "ipython3",
   "version": "3.9.15"
  },
  "orig_nbformat": 4,
  "vscode": {
   "interpreter": {
    "hash": "ba7e9f4964f105db5d476a6bf9b47e70d0bf16854eb8b7ea4fd7f47088c3e55f"
   }
  }
 },
 "nbformat": 4,
 "nbformat_minor": 2
}
