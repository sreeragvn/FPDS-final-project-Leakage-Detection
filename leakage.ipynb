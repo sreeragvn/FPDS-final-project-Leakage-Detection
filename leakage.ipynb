{
 "cells": [
  {
   "cell_type": "code",
   "execution_count": 1,
   "metadata": {},
   "outputs": [
    {
     "name": "stderr",
     "output_type": "stream",
     "text": [
      "2023-01-29 14:24:50.155005: I tensorflow/core/platform/cpu_feature_guard.cc:193] This TensorFlow binary is optimized with oneAPI Deep Neural Network Library (oneDNN) to use the following CPU instructions in performance-critical operations:  SSE4.1 SSE4.2 AVX AVX2 FMA\n",
      "To enable them in other operations, rebuild TensorFlow with the appropriate compiler flags.\n"
     ]
    },
    {
     "name": "stdout",
     "output_type": "stream",
     "text": [
      "# GPUs Available:  1\n"
     ]
    },
    {
     "name": "stderr",
     "output_type": "stream",
     "text": [
      "2023-01-29 14:24:52.568108: I tensorflow/stream_executor/cuda/cuda_gpu_executor.cc:980] successful NUMA node read from SysFS had negative value (-1), but there must be at least one NUMA node, so returning NUMA node zero\n",
      "2023-01-29 14:24:52.689837: I tensorflow/stream_executor/cuda/cuda_gpu_executor.cc:980] successful NUMA node read from SysFS had negative value (-1), but there must be at least one NUMA node, so returning NUMA node zero\n",
      "2023-01-29 14:24:52.690235: I tensorflow/stream_executor/cuda/cuda_gpu_executor.cc:980] successful NUMA node read from SysFS had negative value (-1), but there must be at least one NUMA node, so returning NUMA node zero\n"
     ]
    }
   ],
   "source": [
    "import os\n",
    "# os.environ['TF_CPP_MIN_LOG_LEVEL'] = '2'\n",
    "os.environ['CUDA_VISIBLE_DEVICES'] = \"0\"\n",
    "\n",
    "import matplotlib.pyplot as plt\n",
    "import matplotlib.colors as mcolors\n",
    "import numpy as np\n",
    "import pandas as pd\n",
    "import seaborn as sns\n",
    "import tensorflow as tf\n",
    "# import tensorflow_datasets as tfds\n",
    "\n",
    "from sklearn.metrics import mean_squared_error\n",
    "from tensorflow import keras\n",
    "from keras import layers\n",
    "# from sklearn import preprocessing\n",
    "# Make numpy values easier to read.\n",
    "# np.set_printoptions(precision=3, suppress=True)\n",
    "\n",
    "# physical_devices = tf.config.list_physical_devices(\"gpu\")\n",
    "print(\"# GPUs Available: \", len(tf.config.experimental.list_physical_devices('GPU')))\n",
    "# tf.config.experimental.set_memory_growth(physical_devices[0], True)\n",
    "\n",
    "tf.keras.backend.set_floatx('float64')\n",
    "tf.compat.v1.enable_eager_execution()"
   ]
  },
  {
   "cell_type": "code",
   "execution_count": 2,
   "metadata": {},
   "outputs": [],
   "source": [
    "# preprocessing of data\n",
    "\n",
    "leakage_train_100 = pd.read_csv(\"leakage_dataset_train_100.csv\")\n",
    "leakage_train_1000 = pd.read_csv(\"leakage_dataset_train_1000.csv\")\n",
    "leakage_val_1000 = pd.read_csv(\"leakage_dataset_validation_1000.csv\")\n",
    "\n",
    "train_ds = leakage_train_100\n",
    "val_ds = leakage_val_1000\n",
    "\n",
    "# batch_size = 1\n",
    "\n",
    "# train_ds = train_ds.repeat()\n",
    "# train_ds = train_ds.shuffle(buffer_size=1024, seed=0)\n",
    "# train_ds = train_ds.batch(batch_size=batch_size)\n",
    "# train_ds = train_ds.prefetch(buffer_size=1)\n",
    "\n",
    "# val_ds = val_ds.batch(batch_size=batch_size)\n",
    "# val_ds = val_ds.prefetch(buffer_size=1)\n",
    "\n",
    "\n",
    "# leakage_train_100.head()\n",
    "# leakage_val_1000.head()\n",
    "\n",
    "# #create two output arrays\n",
    "# def format_output(data):\n",
    "#     data = data.copy()\n",
    "#     y1 = data.pop('y1')\n",
    "#     y1 = np.array(y1)\n",
    "#     y2 = data.pop('y2')\n",
    "#     y2 = np.array(y2)\n",
    "#     return y1, y2\n",
    "\n",
    "X_train = train_ds.iloc[:,2:].to_numpy()\n",
    "Y_train = train_ds.iloc[:,:2]\n",
    "\n",
    "#splitting of x and y variable\n",
    "# X_train = leakage_train_1000.iloc[:,2:].to_numpy()\n",
    "# Y_train = leakage_train_1000.iloc[:,:2]\n",
    "\n",
    "num_rows, num_cols = X_train.shape\n",
    "\n",
    "X_validation = val_ds.iloc[:,2:].to_numpy()\n",
    "Y_validation = val_ds.iloc[:,:2]\n",
    "\n",
    "# scX = preprocessing.StandardScaler()\n",
    "# X_train = scX.fit_transform(X_train)\n",
    "# X_validation = scX.transform(X_validation)\n",
    "\n",
    "# stY = preprocessing.StandardScaler()\n",
    "# Y_train = stY.fit_transform(Y_train)\n",
    "# Y_validation = stY.transform(Y_validation)\n",
    "\n",
    "# Y_train = pd.DataFrame(Y_train, columns = ['y1','y2'])\n",
    "# Y_validation = pd.DataFrame(Y_validation, columns = ['y1','y2'])\n",
    "\n",
    "# y1_train, y2_train = format_output(Y_train)\n",
    "# y1_validation, y2_validation = format_output(Y_validation)\n",
    "\n",
    "Y_train = Y_train.to_numpy()\n",
    "Y_validation = Y_validation.to_numpy()"
   ]
  },
  {
   "cell_type": "code",
   "execution_count": 3,
   "metadata": {},
   "outputs": [
    {
     "name": "stdout",
     "output_type": "stream",
     "text": [
      "Model: \"leakge_functional_model\"\n",
      "_________________________________________________________________\n",
      " Layer (type)                Output Shape              Param #   \n",
      "=================================================================\n",
      " input_1 (InputLayer)        [(None, 4)]               0         \n",
      "                                                                 \n",
      " dense (Dense)               (None, 4)                 20        \n",
      "                                                                 \n",
      " dense_1 (Dense)             (None, 2)                 10        \n",
      "                                                                 \n",
      "=================================================================\n",
      "Total params: 30\n",
      "Trainable params: 30\n",
      "Non-trainable params: 0\n",
      "_________________________________________________________________\n"
     ]
    },
    {
     "name": "stderr",
     "output_type": "stream",
     "text": [
      "2023-01-29 14:24:52.847204: I tensorflow/core/platform/cpu_feature_guard.cc:193] This TensorFlow binary is optimized with oneAPI Deep Neural Network Library (oneDNN) to use the following CPU instructions in performance-critical operations:  SSE4.1 SSE4.2 AVX AVX2 FMA\n",
      "To enable them in other operations, rebuild TensorFlow with the appropriate compiler flags.\n",
      "2023-01-29 14:24:52.849343: I tensorflow/stream_executor/cuda/cuda_gpu_executor.cc:980] successful NUMA node read from SysFS had negative value (-1), but there must be at least one NUMA node, so returning NUMA node zero\n",
      "2023-01-29 14:24:52.849886: I tensorflow/stream_executor/cuda/cuda_gpu_executor.cc:980] successful NUMA node read from SysFS had negative value (-1), but there must be at least one NUMA node, so returning NUMA node zero\n",
      "2023-01-29 14:24:52.850100: I tensorflow/stream_executor/cuda/cuda_gpu_executor.cc:980] successful NUMA node read from SysFS had negative value (-1), but there must be at least one NUMA node, so returning NUMA node zero\n",
      "2023-01-29 14:24:54.053732: I tensorflow/stream_executor/cuda/cuda_gpu_executor.cc:980] successful NUMA node read from SysFS had negative value (-1), but there must be at least one NUMA node, so returning NUMA node zero\n",
      "2023-01-29 14:24:54.054186: I tensorflow/stream_executor/cuda/cuda_gpu_executor.cc:980] successful NUMA node read from SysFS had negative value (-1), but there must be at least one NUMA node, so returning NUMA node zero\n",
      "2023-01-29 14:24:54.054400: I tensorflow/stream_executor/cuda/cuda_gpu_executor.cc:980] successful NUMA node read from SysFS had negative value (-1), but there must be at least one NUMA node, so returning NUMA node zero\n",
      "2023-01-29 14:24:54.054568: I tensorflow/core/common_runtime/gpu/gpu_device.cc:1616] Created device /job:localhost/replica:0/task:0/device:GPU:0 with 2450 MB memory:  -> device: 0, name: NVIDIA GeForce GTX 1650 Ti, pci bus id: 0000:01:00.0, compute capability: 7.5\n"
     ]
    },
    {
     "name": "stdout",
     "output_type": "stream",
     "text": [
      "None\n",
      "Epoch 1/5\n",
      "20/20 - 2s - loss: 0.2013 - accuracy: 0.5300 - val_loss: 0.1161 - val_accuracy: 0.7230 - 2s/epoch - 92ms/step\n",
      "Epoch 2/5\n",
      "20/20 - 0s - loss: 0.0806 - accuracy: 0.6900 - val_loss: 0.0556 - val_accuracy: 0.7510 - 467ms/epoch - 23ms/step\n",
      "Epoch 3/5\n",
      "20/20 - 0s - loss: 0.0342 - accuracy: 0.8600 - val_loss: 0.0402 - val_accuracy: 0.8680 - 353ms/epoch - 18ms/step\n",
      "Epoch 4/5\n",
      "20/20 - 0s - loss: 0.0271 - accuracy: 0.8400 - val_loss: 0.0230 - val_accuracy: 0.8680 - 412ms/epoch - 21ms/step\n",
      "Epoch 5/5\n",
      "20/20 - 1s - loss: 0.0223 - accuracy: 0.8900 - val_loss: 0.0278 - val_accuracy: 0.8050 - 546ms/epoch - 27ms/step\n",
      "32/32 [==============================] - 0s 2ms/step\n"
     ]
    }
   ],
   "source": [
    "tf.random.set_seed(42) \n",
    "\n",
    "# NN architechture - keras Functional API\n",
    "# Now we have one input layer, 1 hidden layer and 2 output layer - both connected to hidden layer\n",
    "# Thinking of adding a normalization layer or doing normalization before training\n",
    "# inputs = tf.keras.layers.Normalization(input_shape=[4,], axis=None)\n",
    "inputs = tf.keras.Input(shape=(4,))\n",
    "dense1 = tf.keras.layers.Dense(4, activation='relu')\n",
    "# dense2_1 = tf.keras.layers.Dense(1, activation = 'sigmoid', name = 'y1')\n",
    "# dense2_2 = tf.keras.layers.Dense(1, activation = 'sigmoid', name = 'y2')\n",
    "\n",
    "# dense2_1 = tf.keras.layers.Dense(1, name = 'y1')\n",
    "# dense2_2 = tf.keras.layers.Dense(1, name = 'y2')\n",
    "dense2_1 = tf.keras.layers.Dense(2)\n",
    "\n",
    "x=dense1(inputs)\n",
    "\n",
    "outputs1=dense2_1(x)\n",
    "# outputs2=dense2_2(x)\n",
    "\n",
    "model = tf.keras.Model(inputs=inputs, outputs=outputs1, name = 'leakge_functional_model')\n",
    "\n",
    "print(model.summary())\n",
    "\n",
    "model.compile(optimizer=tf.keras.optimizers.Adam(learning_rate=0.1),\n",
    "              loss=tf.keras.losses.mean_squared_error,\n",
    "              metrics = ['accuracy']\n",
    ")\n",
    "\n",
    "model.fit(X_train, Y_train, epochs=5, batch_size=5, verbose=2, validation_data=(X_validation, Y_validation))\n",
    "\n",
    "predictions = model.predict(X_validation)\n",
    "\n",
    "# even for a primilinary result, the loss is pretty good"
   ]
  },
  {
   "cell_type": "code",
   "execution_count": 4,
   "metadata": {},
   "outputs": [
    {
     "name": "stdout",
     "output_type": "stream",
     "text": [
      "rmse of y1:  0.17623970240382844\n",
      "rmse of y2:  0.15651557548918982\n"
     ]
    },
    {
     "data": {
      "image/png": "[encoded data removed]",
      "text/plain": [
       "<Figure size 640x480 with 2 Axes>"
      ]
     },
     "metadata": {},
     "output_type": "display_data"
    }
   ],
   "source": [
    "def prediction_accuracy(predictions, Y_validation): \n",
    "    predictions = predictions.transpose()\n",
    "    Y_validation = Y_validation.transpose()\n",
    "    y1 = predictions[0]\n",
    "    y2 = predictions[1]\n",
    "    y1_validation = Y_validation[0]\n",
    "    y2_validation = Y_validation[1]\n",
    "    fig, axs = plt.subplots(2)\n",
    "    # print(y1_validation.shape, y1.shape)\n",
    "    # print(y2_validation.shape, y2.shape)\n",
    "    # fig.suptitle('')\n",
    "    axs[0].scatter(y1_validation, y1)\n",
    "    axs[0].set_title('y1')\n",
    "    axs[1].scatter(y2_validation, y2)\n",
    "    axs[1].set_title('y2')\n",
    "    for ax in axs.flat:\n",
    "        ax.set(xlabel='true value', ylabel='predicted value')\n",
    "    for ax in axs.flat:\n",
    "        ax.label_outer()\n",
    "\n",
    "    print(\"rmse of y1: \", mean_squared_error(y1_validation, y1, squared=False))\n",
    "    print(\"rmse of y2: \", mean_squared_error(y2_validation, y2, squared=False))\n",
    "\n",
    "prediction_accuracy(predictions, Y_validation)"
   ]
  },
  {
   "cell_type": "code",
   "execution_count": 5,
   "metadata": {},
   "outputs": [],
   "source": [
    "# data Augmentation\n",
    "# Requires cleaning up\n",
    "\n",
    "def rotation_matrix(angle):\n",
    "    theta = np.radians(angle)\n",
    "    c, s = np.cos(theta), np.sin(theta)\n",
    "    R = np.array(((c, -s), (s, c)))\n",
    "    return R\n",
    "\n",
    "def Augmentation_clock(x,y):\n",
    "\n",
    "    x = x.copy()\n",
    "    y = y.copy()\n",
    "    # print(y)\n",
    "    y_aug = np.transpose(np.matmul(rotation_matrix(-90), np.transpose(y)))\n",
    "    # print(y_aug)\n",
    "\n",
    "    temp = x.copy()\n",
    "    x0 = temp[:,0]\n",
    "    x1 = temp[:,1]\n",
    "    x2 = temp[:,2]\n",
    "    x3 = temp[:,3]\n",
    "\n",
    "    # print(x0.shape)\n",
    "\n",
    "    x[:,0] = x3\n",
    "    x[:,1] = x0\n",
    "    x[:,2] = x1\n",
    "    x[:,3] = x2\n",
    " \n",
    "    return x,y_aug\n",
    "\n",
    "\n",
    "def Augmentation_flip(x,y):\n",
    "    x = x.copy()\n",
    "    y = y.copy()\n",
    "    x = np.flip(x, axis=1)\n",
    "    y[:,1] = -1 * y[:,1]\n",
    "    return x,y\n",
    "\n",
    "def Augmentation_anticlock(x,y):\n",
    "\n",
    "    x = x.copy()\n",
    "    y = y.copy()\n",
    "    y_aug = np.transpose(np.matmul(rotation_matrix(90), np.transpose(y)))\n",
    "\n",
    "    temp = x.copy()\n",
    "    x0 = temp[:,0]\n",
    "    x1 = temp[:,1]\n",
    "    x2 = temp[:,2]\n",
    "    x3 = temp[:,3]\n",
    "\n",
    "    x[:,0] = x1\n",
    "    x[:,1] = x2\n",
    "    x[:,2] = x3\n",
    "    x[:,3] = x0\n",
    " \n",
    "    return x,y_aug\n",
    "\n",
    "# # test inputs\n",
    "# X_train = np.array([[1,2,3,4], [5,6,7,8], [9,10,11,12]])\n",
    "# # print(X_train)\n",
    "# Y_train = np.array([[15,16], [17,18], [19,20]])\n",
    "# num_rows, num_cols = X_train.shape\n",
    "\n",
    "def data_augmentation(x,y):\n",
    "    x_aug1,y_aug1 = Augmentation_clock(x, y)\n",
    "    x_aug2,y_aug2 = Augmentation_clock(x_aug1,y_aug1)\n",
    "    x_aug3,y_aug3 = Augmentation_clock(x_aug2,y_aug2)\n",
    "    x_aug4,y_aug4 = Augmentation_flip(x_aug3,y_aug3)\n",
    "    x_aug5,y_aug5 = Augmentation_clock(x_aug4,y_aug4)\n",
    "    x_aug6,y_aug6 = Augmentation_clock(x_aug5,y_aug5)\n",
    "    x_aug7,y_aug7 = Augmentation_clock(x_aug6,y_aug6)\n",
    "    X_train_Aug = np.concatenate((x, x_aug1, x_aug2, x_aug3, x_aug4, x_aug5, x_aug6, x_aug7))\n",
    "    Y_train_Aug = np.concatenate((y, y_aug1, y_aug2, y_aug3, y_aug4, y_aug5, y_aug6, y_aug7))\n",
    "\n",
    "    return X_train_Aug, Y_train_Aug\n",
    "\n",
    "X_train_Aug, Y_train_Aug = data_augmentation(X_train, Y_train)\n",
    "X_validation_Aug, Y_validation_Aug = data_augmentation(X_validation, Y_validation)"
   ]
  },
  {
   "cell_type": "code",
   "execution_count": 6,
   "metadata": {},
   "outputs": [
    {
     "name": "stdout",
     "output_type": "stream",
     "text": [
      "Model: \"leakge_aug_functional_model\"\n",
      "_________________________________________________________________\n",
      " Layer (type)                Output Shape              Param #   \n",
      "=================================================================\n",
      " input_2 (InputLayer)        [(None, 4)]               0         \n",
      "                                                                 \n",
      " dense_2 (Dense)             (None, 4)                 20        \n",
      "                                                                 \n",
      " dense_3 (Dense)             (None, 2)                 10        \n",
      "                                                                 \n",
      "=================================================================\n",
      "Total params: 30\n",
      "Trainable params: 30\n",
      "Non-trainable params: 0\n",
      "_________________________________________________________________\n",
      "None\n",
      "Epoch 1/5\n",
      "160/160 - 2s - loss: 0.2686 - accuracy: 0.4850 - val_loss: 0.1752 - val_accuracy: 0.5721 - 2s/epoch - 15ms/step\n",
      "Epoch 2/5\n",
      "160/160 - 2s - loss: 0.1989 - accuracy: 0.5138 - val_loss: 0.1841 - val_accuracy: 0.5000 - 2s/epoch - 13ms/step\n",
      "Epoch 3/5\n",
      "160/160 - 2s - loss: 0.2031 - accuracy: 0.4975 - val_loss: 0.1774 - val_accuracy: 0.5000 - 2s/epoch - 15ms/step\n",
      "Epoch 4/5\n",
      "160/160 - 2s - loss: 0.1976 - accuracy: 0.5225 - val_loss: 0.2203 - val_accuracy: 0.5000 - 2s/epoch - 13ms/step\n",
      "Epoch 5/5\n",
      "160/160 - 2s - loss: 0.2091 - accuracy: 0.4600 - val_loss: 0.2013 - val_accuracy: 0.5000 - 2s/epoch - 12ms/step\n",
      "250/250 [==============================] - 0s 1ms/step\n"
     ]
    }
   ],
   "source": [
    "# tf.random.set_seed(42) \n",
    "\n",
    "# Model trained on Augmented dataset\n",
    "# Now we have one input layer, 1 hidden layer and 2 output layer - both connected to hidden layer\n",
    "# Thinking of adding a normalization layer or doing normalization before training\n",
    "# inputs = tf.keras.layers.Normalization(input_shape=[4,], axis=None)\n",
    "inputs = tf.keras.Input(shape=(4,))\n",
    "dense1 = tf.keras.layers.Dense(4, activation='relu')\n",
    "# dense2_1 = tf.keras.layers.Dense(1, activation = 'sigmoid', name = 'y1')\n",
    "# dense2_2 = tf.keras.layers.Dense(1, activation = 'sigmoid', name = 'y2')\n",
    "\n",
    "# dense2_1 = tf.keras.layers.Dense(1, name = 'y1')\n",
    "# dense2_2 = tf.keras.layers.Dense(1, name = 'y2')\n",
    "dense2_1 = tf.keras.layers.Dense(2)\n",
    "\n",
    "x=dense1(inputs)\n",
    "\n",
    "outputs1=dense2_1(x)\n",
    "# outputs2=dense2_2(x)\n",
    "\n",
    "model = tf.keras.Model(inputs=inputs, outputs=outputs1, name = 'leakge_aug_functional_model')\n",
    "\n",
    "print(model.summary())\n",
    "\n",
    "model.compile(optimizer=tf.keras.optimizers.Adam(learning_rate=0.1),\n",
    "              loss=tf.keras.losses.mean_squared_error,\n",
    "              metrics = ['accuracy']\n",
    ")\n",
    "\n",
    "# y_aug = {\n",
    "#     \"y1\" : Y_train_Aug[:,0],\n",
    "#     \"y2\" : Y_train_Aug[:,1]\n",
    "# }\n",
    "\n",
    "# y_aug_valid = {\n",
    "#     \"y1\" : Y_validation_Aug[:,0],\n",
    "#     \"y2\" : Y_validation_Aug[:,1]\n",
    "# }\n",
    "\n",
    "\n",
    "model.fit(X_train_Aug, y=Y_train_Aug, epochs=5, batch_size=5, verbose=2, validation_data=(X_validation_Aug, Y_validation_Aug))\n",
    "\n",
    "predictions = model.predict(X_validation_Aug)\n",
    "\n",
    "# even for a primilinary result, the loss is pretty good"
   ]
  },
  {
   "cell_type": "code",
   "execution_count": 7,
   "metadata": {},
   "outputs": [
    {
     "name": "stdout",
     "output_type": "stream",
     "text": [
      "rmse of y1:  0.4604233592092171\n",
      "rmse of y2:  0.43654734120838623\n"
     ]
    },
    {
     "data": {
      "image/png": "[encoded data removed]",
      "text/plain": [
       "<Figure size 640x480 with 2 Axes>"
      ]
     },
     "metadata": {},
     "output_type": "display_data"
    }
   ],
   "source": [
    "prediction_accuracy(predictions, Y_validation_Aug)"
   ]
  },
  {
   "cell_type": "code",
   "execution_count": 15,
   "metadata": {},
   "outputs": [
    {
     "name": "stdout",
     "output_type": "stream",
     "text": [
      "Model: \"model_2\"\n",
      "_________________________________________________________________\n",
      " Layer (type)                Output Shape              Param #   \n",
      "=================================================================\n",
      " input_5 (InputLayer)        [(None, 1, 4)]            0         \n",
      "                                                                 \n",
      " hidden_layer_3 (Hidden_laye  (None, 1, 4)             19        \n",
      " r)                                                              \n",
      "                                                                 \n",
      " my_re_lu_3 (MyReLU)         (None, 1, 4)              0         \n",
      "                                                                 \n",
      " output_layer_3 (Output_laye  (None, 1, 2)             9         \n",
      " r)                                                              \n",
      "                                                                 \n",
      "=================================================================\n",
      "Total params: 28\n",
      "Trainable params: 4\n",
      "Non-trainable params: 24\n",
      "_________________________________________________________________\n",
      "Epoch 1/5\n"
     ]
    },
    {
     "ename": "ValueError",
     "evalue": "in user code:\n\n    File \"/home/vn/miniconda3/envs/fpds/lib/python3.9/site-packages/keras/engine/training.py\", line 1160, in train_function  *\n        return step_function(self, iterator)\n    File \"/home/vn/miniconda3/envs/fpds/lib/python3.9/site-packages/keras/engine/training.py\", line 1146, in step_function  **\n        outputs = model.distribute_strategy.run(run_step, args=(data,))\n    File \"/home/vn/miniconda3/envs/fpds/lib/python3.9/site-packages/keras/engine/training.py\", line 1135, in run_step  **\n        outputs = model.train_step(data)\n    File \"/home/vn/miniconda3/envs/fpds/lib/python3.9/site-packages/keras/engine/training.py\", line 997, in train_step\n        self.optimizer.minimize(loss, self.trainable_variables, tape=tape)\n    File \"/home/vn/miniconda3/envs/fpds/lib/python3.9/site-packages/keras/optimizers/optimizer_v2/optimizer_v2.py\", line 579, in minimize\n        return self.apply_gradients(grads_and_vars, name=name)\n    File \"/home/vn/miniconda3/envs/fpds/lib/python3.9/site-packages/keras/optimizers/optimizer_v2/optimizer_v2.py\", line 689, in apply_gradients\n        grads_and_vars = optimizer_utils.filter_empty_gradients(grads_and_vars)\n    File \"/home/vn/miniconda3/envs/fpds/lib/python3.9/site-packages/keras/optimizers/optimizer_v2/utils.py\", line 77, in filter_empty_gradients\n        raise ValueError(\n\n    ValueError: No gradients provided for any variable: (['hidden_layer_3/Variable:0', 'hidden_layer_3/Variable:0', 'hidden_layer_3/Variable:0', 'output_layer_3/Variable:0'],). Provided `grads_and_vars` is ((None, <tf.Variable 'hidden_layer_3/Variable:0' shape=(1,) dtype=float64>), (None, <tf.Variable 'hidden_layer_3/Variable:0' shape=(1,) dtype=float64>), (None, <tf.Variable 'hidden_layer_3/Variable:0' shape=(1,) dtype=float64>), (None, <tf.Variable 'output_layer_3/Variable:0' shape=(1,) dtype=float64>)).\n",
     "output_type": "error",
     "traceback": [
      "\u001b[0;31m---------------------------------------------------------------------------\u001b[0m",
      "\u001b[0;31mValueError\u001b[0m                                Traceback (most recent call last)",
      "Cell \u001b[0;32mIn[15], line 92\u001b[0m\n\u001b[1;32m     85\u001b[0m model\u001b[39m.\u001b[39mbuild_graph()\u001b[39m.\u001b[39msummary()\n\u001b[1;32m     87\u001b[0m model\u001b[39m.\u001b[39mcompile(optimizer\u001b[39m=\u001b[39mtf\u001b[39m.\u001b[39mkeras\u001b[39m.\u001b[39moptimizers\u001b[39m.\u001b[39mAdam(learning_rate\u001b[39m=\u001b[39m\u001b[39m0.1\u001b[39m),\n\u001b[1;32m     88\u001b[0m               loss\u001b[39m=\u001b[39m\u001b[39m'\u001b[39m\u001b[39mmean_squared_error\u001b[39m\u001b[39m'\u001b[39m,\n\u001b[1;32m     89\u001b[0m               metrics \u001b[39m=\u001b[39m [\u001b[39m'\u001b[39m\u001b[39maccuracy\u001b[39m\u001b[39m'\u001b[39m]\n\u001b[1;32m     90\u001b[0m )\n\u001b[0;32m---> 92\u001b[0m model\u001b[39m.\u001b[39;49mfit(X_train, y\u001b[39m=\u001b[39;49mY_train, epochs\u001b[39m=\u001b[39;49m\u001b[39m5\u001b[39;49m, batch_size\u001b[39m=\u001b[39;49m\u001b[39m5\u001b[39;49m, verbose\u001b[39m=\u001b[39;49m\u001b[39m2\u001b[39;49m)\n",
      "File \u001b[0;32m~/miniconda3/envs/fpds/lib/python3.9/site-packages/keras/utils/traceback_utils.py:70\u001b[0m, in \u001b[0;36mfilter_traceback.<locals>.error_handler\u001b[0;34m(*args, **kwargs)\u001b[0m\n\u001b[1;32m     67\u001b[0m     filtered_tb \u001b[39m=\u001b[39m _process_traceback_frames(e\u001b[39m.\u001b[39m__traceback__)\n\u001b[1;32m     68\u001b[0m     \u001b[39m# To get the full stack trace, call:\u001b[39;00m\n\u001b[1;32m     69\u001b[0m     \u001b[39m# `tf.debugging.disable_traceback_filtering()`\u001b[39;00m\n\u001b[0;32m---> 70\u001b[0m     \u001b[39mraise\u001b[39;00m e\u001b[39m.\u001b[39mwith_traceback(filtered_tb) \u001b[39mfrom\u001b[39;00m \u001b[39mNone\u001b[39m\n\u001b[1;32m     71\u001b[0m \u001b[39mfinally\u001b[39;00m:\n\u001b[1;32m     72\u001b[0m     \u001b[39mdel\u001b[39;00m filtered_tb\n",
      "File \u001b[0;32m/tmp/__autograph_generated_filemvsshq54.py:15\u001b[0m, in \u001b[0;36mouter_factory.<locals>.inner_factory.<locals>.tf__train_function\u001b[0;34m(iterator)\u001b[0m\n\u001b[1;32m     13\u001b[0m \u001b[39mtry\u001b[39;00m:\n\u001b[1;32m     14\u001b[0m     do_return \u001b[39m=\u001b[39m \u001b[39mTrue\u001b[39;00m\n\u001b[0;32m---> 15\u001b[0m     retval_ \u001b[39m=\u001b[39m ag__\u001b[39m.\u001b[39mconverted_call(ag__\u001b[39m.\u001b[39mld(step_function), (ag__\u001b[39m.\u001b[39mld(\u001b[39mself\u001b[39m), ag__\u001b[39m.\u001b[39mld(iterator)), \u001b[39mNone\u001b[39;00m, fscope)\n\u001b[1;32m     16\u001b[0m \u001b[39mexcept\u001b[39;00m:\n\u001b[1;32m     17\u001b[0m     do_return \u001b[39m=\u001b[39m \u001b[39mFalse\u001b[39;00m\n",
      "\u001b[0;31mValueError\u001b[0m: in user code:\n\n    File \"/home/vn/miniconda3/envs/fpds/lib/python3.9/site-packages/keras/engine/training.py\", line 1160, in train_function  *\n        return step_function(self, iterator)\n    File \"/home/vn/miniconda3/envs/fpds/lib/python3.9/site-packages/keras/engine/training.py\", line 1146, in step_function  **\n        outputs = model.distribute_strategy.run(run_step, args=(data,))\n    File \"/home/vn/miniconda3/envs/fpds/lib/python3.9/site-packages/keras/engine/training.py\", line 1135, in run_step  **\n        outputs = model.train_step(data)\n    File \"/home/vn/miniconda3/envs/fpds/lib/python3.9/site-packages/keras/engine/training.py\", line 997, in train_step\n        self.optimizer.minimize(loss, self.trainable_variables, tape=tape)\n    File \"/home/vn/miniconda3/envs/fpds/lib/python3.9/site-packages/keras/optimizers/optimizer_v2/optimizer_v2.py\", line 579, in minimize\n        return self.apply_gradients(grads_and_vars, name=name)\n    File \"/home/vn/miniconda3/envs/fpds/lib/python3.9/site-packages/keras/optimizers/optimizer_v2/optimizer_v2.py\", line 689, in apply_gradients\n        grads_and_vars = optimizer_utils.filter_empty_gradients(grads_and_vars)\n    File \"/home/vn/miniconda3/envs/fpds/lib/python3.9/site-packages/keras/optimizers/optimizer_v2/utils.py\", line 77, in filter_empty_gradients\n        raise ValueError(\n\n    ValueError: No gradients provided for any variable: (['hidden_layer_3/Variable:0', 'hidden_layer_3/Variable:0', 'hidden_layer_3/Variable:0', 'output_layer_3/Variable:0'],). Provided `grads_and_vars` is ((None, <tf.Variable 'hidden_layer_3/Variable:0' shape=(1,) dtype=float64>), (None, <tf.Variable 'hidden_layer_3/Variable:0' shape=(1,) dtype=float64>), (None, <tf.Variable 'hidden_layer_3/Variable:0' shape=(1,) dtype=float64>), (None, <tf.Variable 'output_layer_3/Variable:0' shape=(1,) dtype=float64>)).\n"
     ]
    }
   ],
   "source": [
    "# Equivariance NN with subclassing API\n",
    "# These function make use of the subclassing Api and custom layer functionality of tensorflow\n",
    "# experiment\n",
    "\n",
    "class Hidden_layer(layers.Layer):\n",
    "    def __init__(self, units):\n",
    "        super(Hidden_layer, self).__init__()\n",
    "        self.units = units\n",
    "\n",
    "    def build(self, input_shape):\n",
    "        self.a = self.add_weight(shape=(1,), initializer='random_normal', trainable=False)\n",
    "        self.b = self.add_weight(shape=(1,), initializer='random_normal', trainable=False)\n",
    "        self.c = self.add_weight(shape=(1,), initializer='random_normal', trainable=False)\n",
    "        x= tf.Variable(\n",
    "            [self.a, self.b, self.c, self.b, \n",
    "             self.b, self.a, self.b, self.c, \n",
    "             self.c, self.b, self.a, self.b, \n",
    "             self.b, self.c, self.b, self.a])\n",
    "        x = tf.reshape(x, shape=(input_shape[-1],self.units))\n",
    "        self.W = tf.Variable(x, shape=(input_shape[-1],self.units),trainable=True)\n",
    "    def call(self, inputs):\n",
    "        # print(self.W.shape)\n",
    "        # print(inputs.shape)\n",
    "        # # print(\"a\")\n",
    "        x = tf.matmul(inputs, self.W)\n",
    "        # print(\"b\")\n",
    "        # print(x)\n",
    "        # print(x.shape)\n",
    "        return x\n",
    "\n",
    "class Output_layer(layers.Layer):\n",
    "    def __init__(self, units):\n",
    "        super(Output_layer, self).__init__()\n",
    "        self.units = units\n",
    "\n",
    "    def build(self, input_shape):\n",
    "        self.d = self.add_weight(shape=(1,), initializer='random_normal', trainable=False)\n",
    "        x = tf.Variable([self.d,-self.d,-self.d,self.d, -self.d,-self.d,self.d,self.d])\n",
    "        x = r = tf.reshape(x, shape=(input_shape[-1],self.units))\n",
    "        self.W = tf.Variable(x, shape=(input_shape[-1],self.units),trainable=True)\n",
    "        \n",
    "        # self.W = tf.Variable(\n",
    "        #     [[self.d,-self.d],\n",
    "        #     [-self.d,-self.d], \n",
    "        #      [-self.d,-self.d],\n",
    "        #      [self.d,self.d]],shape=(input_shape[-1],self.units),\n",
    "        #     trainable=True)\n",
    "\n",
    "    def call(self, inputs):\n",
    "        # inputs = inputs\n",
    "        # W = self.W.transpose()\n",
    "        # print(self.W.shape)\n",
    "        # print(inputs.shape)\n",
    "        # print(\"a\")\n",
    "        x = tf.matmul(inputs, self.W)\n",
    "        # print(\"b\")\n",
    "        # print(x.shape)\n",
    "        return x\n",
    "\n",
    "class MyReLU(layers.Layer):\n",
    "    def __init__(self):\n",
    "        super(MyReLU, self).__init__()\n",
    "\n",
    "    def call(self, x):\n",
    "        return tf.math.maximum(x, 0)\n",
    "\n",
    "class MyModel(keras.Model):  # model.fit, model.evalute, model.predict\n",
    "    def __init__(self):\n",
    "        super(MyModel, self).__init__()\n",
    "        self.dense1 = Hidden_layer(4)\n",
    "        self.dense2_1 = Output_layer(2)\n",
    "        # self.dense2_2 = Output_layer(1)\n",
    "        self.relu = MyReLU()\n",
    "\n",
    "    def call(self, x):\n",
    "        x = self.relu(self.dense1(x))\n",
    "        # return {\"y1\" :self.dense2_1(x),\"y2\" : self.dense2_2(x)}\n",
    "        return self.dense2_1(x)\n",
    "\n",
    "    def build_graph(self):\n",
    "        x = tf.keras.layers.Input(shape=(1,4))\n",
    "        return tf.keras.Model(inputs=[x], outputs=self.call(x))\n",
    "\n",
    "model = MyModel()\n",
    "model.build_graph().summary()\n",
    "\n",
    "model.compile(optimizer=tf.keras.optimizers.Adam(learning_rate=0.1),\n",
    "              loss='mean_squared_error',\n",
    "              metrics = ['accuracy']\n",
    ")\n",
    "\n",
    "model.fit(X_train, y=Y_train, epochs=5, batch_size=5, verbose=2)\n"
   ]
  },
  {
   "cell_type": "code",
   "execution_count": 14,
   "metadata": {},
   "outputs": [
    {
     "name": "stdout",
     "output_type": "stream",
     "text": [
      "[<tf.Variable 'hidden_layer_2/Variable:0' shape=(1,) dtype=float64, numpy=array([-0.02889735])>, <tf.Variable 'hidden_layer_2/Variable:0' shape=(1,) dtype=float64, numpy=array([0.10015991])>, <tf.Variable 'hidden_layer_2/Variable:0' shape=(1,) dtype=float64, numpy=array([0.02336548])>, <tf.Variable 'hidden_layer_2/Variable:0' shape=(4, 4) dtype=float64, numpy=\n",
      "array([[-0.02889735,  0.10015991,  0.02336548,  0.10015991],\n",
      "       [ 0.10015991, -0.02889735,  0.10015991,  0.02336548],\n",
      "       [ 0.02336548,  0.10015991, -0.02889735,  0.10015991],\n",
      "       [ 0.10015991,  0.02336548,  0.10015991, -0.02889735]])>]\n"
     ]
    }
   ],
   "source": [
    "print(model.layers[0].weights)"
   ]
  },
  {
   "cell_type": "code",
   "execution_count": 10,
   "metadata": {},
   "outputs": [
    {
     "name": "stdout",
     "output_type": "stream",
     "text": [
      "[<tf.Variable 'output_layer/Variable:0' shape=(4, 2) dtype=float64, numpy=\n",
      "array([[-1.26454559,  1.13429304],\n",
      "       [ 1.51987961,  0.49816425],\n",
      "       [ 0.54557333, -0.47255083],\n",
      "       [-0.38649833, -1.79074924]])>, <tf.Variable 'output_layer/Variable:0' shape=(1,) dtype=float64, numpy=array([-0.03658661])>]\n"
     ]
    }
   ],
   "source": [
    "print(model.layers[1].weights)"
   ]
  },
  {
   "cell_type": "code",
   "execution_count": 11,
   "metadata": {},
   "outputs": [
    {
     "name": "stdout",
     "output_type": "stream",
     "text": [
      "32/32 [==============================] - 0s 1ms/step\n",
      "rmse of y1:  0.14625267865449712\n",
      "rmse of y2:  0.11879519487077876\n"
     ]
    },
    {
     "data": {
      "image/png": "[encoded data removed]",
      "text/plain": [
       "<Figure size 640x480 with 2 Axes>"
      ]
     },
     "metadata": {},
     "output_type": "display_data"
    }
   ],
   "source": [
    "predictions = model.predict(X_validation)\n",
    "prediction_accuracy(predictions, Y_validation)"
   ]
  },
  {
   "cell_type": "code",
   "execution_count": 12,
   "metadata": {},
   "outputs": [
    {
     "name": "stdout",
     "output_type": "stream",
     "text": [
      "Epoch 1/5\n"
     ]
    },
    {
     "ename": "TypeError",
     "evalue": "in user code:\n\n    File \"/home/vn/miniconda3/envs/fpds/lib/python3.9/site-packages/keras/engine/training.py\", line 1160, in train_function  *\n        return step_function(self, iterator)\n    File \"/home/vn/miniconda3/envs/fpds/lib/python3.9/site-packages/keras/engine/training.py\", line 1146, in step_function  **\n        outputs = model.distribute_strategy.run(run_step, args=(data,))\n    File \"/home/vn/miniconda3/envs/fpds/lib/python3.9/site-packages/keras/engine/training.py\", line 1135, in run_step  **\n        outputs = model.train_step(data)\n    File \"/home/vn/miniconda3/envs/fpds/lib/python3.9/site-packages/keras/engine/training.py\", line 997, in train_step\n        self.optimizer.minimize(loss, self.trainable_variables, tape=tape)\n    File \"/home/vn/miniconda3/envs/fpds/lib/python3.9/site-packages/keras/optimizers/optimizer_v2/optimizer_v2.py\", line 579, in minimize\n        return self.apply_gradients(grads_and_vars, name=name)\n    File \"/home/vn/miniconda3/envs/fpds/lib/python3.9/site-packages/keras/optimizers/optimizer_v2/optimizer_v2.py\", line 738, in apply_gradients\n        return tf.__internal__.distribute.interim.maybe_merge_call(\n    File \"/home/vn/miniconda3/envs/fpds/lib/python3.9/site-packages/keras/optimizers/optimizer_v2/optimizer_v2.py\", line 797, in _distributed_apply\n        update_op = distribution.extended.update(\n    File \"/home/vn/miniconda3/envs/fpds/lib/python3.9/site-packages/keras/optimizers/optimizer_v2/optimizer_v2.py\", line 779, in apply_grad_to_update_var  **\n        return var.assign(var.constraint(var))\n\n    TypeError: __call__() takes 1 positional argument but 2 were given\n",
     "output_type": "error",
     "traceback": [
      "\u001b[0;31m---------------------------------------------------------------------------\u001b[0m",
      "\u001b[0;31mTypeError\u001b[0m                                 Traceback (most recent call last)",
      "Cell \u001b[0;32mIn[12], line 93\u001b[0m\n\u001b[1;32m     86\u001b[0m \u001b[39m# model.build_graph().summary()\u001b[39;00m\n\u001b[1;32m     88\u001b[0m model\u001b[39m.\u001b[39mcompile(optimizer\u001b[39m=\u001b[39mtf\u001b[39m.\u001b[39mkeras\u001b[39m.\u001b[39moptimizers\u001b[39m.\u001b[39mAdam(learning_rate\u001b[39m=\u001b[39m\u001b[39m0.1\u001b[39m),\n\u001b[1;32m     89\u001b[0m               loss\u001b[39m=\u001b[39m\u001b[39m'\u001b[39m\u001b[39mmean_squared_error\u001b[39m\u001b[39m'\u001b[39m,\n\u001b[1;32m     90\u001b[0m               metrics \u001b[39m=\u001b[39m [\u001b[39m'\u001b[39m\u001b[39maccuracy\u001b[39m\u001b[39m'\u001b[39m]\n\u001b[1;32m     91\u001b[0m )\n\u001b[0;32m---> 93\u001b[0m model\u001b[39m.\u001b[39;49mfit(X_train, y\u001b[39m=\u001b[39;49mY_train, epochs\u001b[39m=\u001b[39;49m\u001b[39m5\u001b[39;49m, batch_size\u001b[39m=\u001b[39;49m\u001b[39m5\u001b[39;49m, verbose\u001b[39m=\u001b[39;49m\u001b[39m2\u001b[39;49m)\n",
      "File \u001b[0;32m~/miniconda3/envs/fpds/lib/python3.9/site-packages/keras/utils/traceback_utils.py:70\u001b[0m, in \u001b[0;36mfilter_traceback.<locals>.error_handler\u001b[0;34m(*args, **kwargs)\u001b[0m\n\u001b[1;32m     67\u001b[0m     filtered_tb \u001b[39m=\u001b[39m _process_traceback_frames(e\u001b[39m.\u001b[39m__traceback__)\n\u001b[1;32m     68\u001b[0m     \u001b[39m# To get the full stack trace, call:\u001b[39;00m\n\u001b[1;32m     69\u001b[0m     \u001b[39m# `tf.debugging.disable_traceback_filtering()`\u001b[39;00m\n\u001b[0;32m---> 70\u001b[0m     \u001b[39mraise\u001b[39;00m e\u001b[39m.\u001b[39mwith_traceback(filtered_tb) \u001b[39mfrom\u001b[39;00m \u001b[39mNone\u001b[39m\n\u001b[1;32m     71\u001b[0m \u001b[39mfinally\u001b[39;00m:\n\u001b[1;32m     72\u001b[0m     \u001b[39mdel\u001b[39;00m filtered_tb\n",
      "File \u001b[0;32m/tmp/__autograph_generated_filemvsshq54.py:15\u001b[0m, in \u001b[0;36mouter_factory.<locals>.inner_factory.<locals>.tf__train_function\u001b[0;34m(iterator)\u001b[0m\n\u001b[1;32m     13\u001b[0m \u001b[39mtry\u001b[39;00m:\n\u001b[1;32m     14\u001b[0m     do_return \u001b[39m=\u001b[39m \u001b[39mTrue\u001b[39;00m\n\u001b[0;32m---> 15\u001b[0m     retval_ \u001b[39m=\u001b[39m ag__\u001b[39m.\u001b[39mconverted_call(ag__\u001b[39m.\u001b[39mld(step_function), (ag__\u001b[39m.\u001b[39mld(\u001b[39mself\u001b[39m), ag__\u001b[39m.\u001b[39mld(iterator)), \u001b[39mNone\u001b[39;00m, fscope)\n\u001b[1;32m     16\u001b[0m \u001b[39mexcept\u001b[39;00m:\n\u001b[1;32m     17\u001b[0m     do_return \u001b[39m=\u001b[39m \u001b[39mFalse\u001b[39;00m\n",
      "\u001b[0;31mTypeError\u001b[0m: in user code:\n\n    File \"/home/vn/miniconda3/envs/fpds/lib/python3.9/site-packages/keras/engine/training.py\", line 1160, in train_function  *\n        return step_function(self, iterator)\n    File \"/home/vn/miniconda3/envs/fpds/lib/python3.9/site-packages/keras/engine/training.py\", line 1146, in step_function  **\n        outputs = model.distribute_strategy.run(run_step, args=(data,))\n    File \"/home/vn/miniconda3/envs/fpds/lib/python3.9/site-packages/keras/engine/training.py\", line 1135, in run_step  **\n        outputs = model.train_step(data)\n    File \"/home/vn/miniconda3/envs/fpds/lib/python3.9/site-packages/keras/engine/training.py\", line 997, in train_step\n        self.optimizer.minimize(loss, self.trainable_variables, tape=tape)\n    File \"/home/vn/miniconda3/envs/fpds/lib/python3.9/site-packages/keras/optimizers/optimizer_v2/optimizer_v2.py\", line 579, in minimize\n        return self.apply_gradients(grads_and_vars, name=name)\n    File \"/home/vn/miniconda3/envs/fpds/lib/python3.9/site-packages/keras/optimizers/optimizer_v2/optimizer_v2.py\", line 738, in apply_gradients\n        return tf.__internal__.distribute.interim.maybe_merge_call(\n    File \"/home/vn/miniconda3/envs/fpds/lib/python3.9/site-packages/keras/optimizers/optimizer_v2/optimizer_v2.py\", line 797, in _distributed_apply\n        update_op = distribution.extended.update(\n    File \"/home/vn/miniconda3/envs/fpds/lib/python3.9/site-packages/keras/optimizers/optimizer_v2/optimizer_v2.py\", line 779, in apply_grad_to_update_var  **\n        return var.assign(var.constraint(var))\n\n    TypeError: __call__() takes 1 positional argument but 2 were given\n"
     ]
    }
   ],
   "source": [
    "# Equivariance NN with subclassing API\n",
    "# These function make use of the subclassing Api and custom layer functionality of tensorflow\n",
    "# experiment\n",
    "\n",
    "class Hidden_layer(layers.Layer):\n",
    "    def __init__(self, units):\n",
    "        super(Hidden_layer, self).__init__()\n",
    "        self.units = units\n",
    "\n",
    "    def build(self, input_shape):\n",
    "        self.W = self.add_weight(\n",
    "            shape=(input_shape[-1], self.units), initializer=\"random_normal\", trainable=True\n",
    "        )\n",
    "    def call(self, inputs):\n",
    "        # print(self.W.shape)\n",
    "        # print(inputs.shape)\n",
    "        # # print(\"a\")\n",
    "        x = tf.matmul(inputs, self.W)\n",
    "        # print(\"b\")\n",
    "        # print(x)\n",
    "        # print(x.shape)\n",
    "        return x\n",
    "\n",
    "class Output_layer_constraint(tf.keras.constraints.Constraint):\n",
    "    # def __call__(self, d):\n",
    "    #     self.d = d\n",
    "    def __call__(self):\n",
    "        x = tf.Variable([self.d,-self.d,-self.d,self.d, -self.d,-self.d,self.d,self.d])\n",
    "        W = tf.reshape(x, shape=(4.4))\n",
    "\n",
    "        return W\n",
    "\n",
    "class Output_layer(layers.Layer):\n",
    "    def __init__(self, units):\n",
    "        super(Output_layer, self).__init__()\n",
    "        self.units = units\n",
    "\n",
    "    def build(self, input_shape):\n",
    "        self.W = self.add_weight(\n",
    "            shape=(input_shape[-1], self.units), initializer=\"random_normal\", trainable=True,constraint = Output_layer_constraint()\n",
    "        )\n",
    "        \n",
    "        # self.W = tf.Variable(\n",
    "        #     [[self.d,-self.d],\n",
    "        #     [-self.d,-self.d], \n",
    "        #      [-self.d,-self.d],\n",
    "        #      [self.d,self.d]],shape=(input_shape[-1],self.units),\n",
    "        #     trainable=True)\n",
    "\n",
    "    def call(self, inputs):\n",
    "        # inputs = inputs\n",
    "        # W = self.W.transpose()\n",
    "        # print(self.W.shape)\n",
    "        # print(inputs.shape)\n",
    "        # print(\"a\")\n",
    "        x = tf.matmul(inputs, self.W)\n",
    "        # print(\"b\")\n",
    "        # print(x.shape)\n",
    "        return x\n",
    "\n",
    "class MyReLU(layers.Layer):\n",
    "    def __init__(self):\n",
    "        super(MyReLU, self).__init__()\n",
    "\n",
    "    def call(self, x):\n",
    "        return tf.math.maximum(x, 0)\n",
    "\n",
    "class MyModel(keras.Model):  # model.fit, model.evalute, model.predict\n",
    "    def __init__(self):\n",
    "        super(MyModel, self).__init__()\n",
    "        self.dense1 = Hidden_layer(4,)\n",
    "        # self.dense2_1 = tf.keras.layers.Dense(2, kernel_constraint=Output_layer_constraint())\n",
    "        self.dense2_1 = Output_layer(2)\n",
    "        self.relu = MyReLU()\n",
    "\n",
    "    def call(self, x):\n",
    "        x = self.relu(self.dense1(x))\n",
    "        # return {\"y1\" :self.dense2_1(x),\"y2\" : self.dense2_2(x)}\n",
    "        return self.dense2_1(x)\n",
    "\n",
    "    # def build_graph(self):\n",
    "    #     x = tf.keras.layers.Input(shape=(1,4))\n",
    "    #     return tf.keras.Model(inputs=[x], outputs=self.call(x))\n",
    "\n",
    "model = MyModel()\n",
    "# model.build_graph().summary()\n",
    "\n",
    "model.compile(optimizer=tf.keras.optimizers.Adam(learning_rate=0.1),\n",
    "              loss='mean_squared_error',\n",
    "              metrics = ['accuracy']\n",
    ")\n",
    "\n",
    "model.fit(X_train, y=Y_train, epochs=5, batch_size=5, verbose=2)\n"
   ]
  },
  {
   "cell_type": "code",
   "execution_count": null,
   "metadata": {},
   "outputs": [],
   "source": [
    "print(model.layers[1].weights)"
   ]
  }
 ],
 "metadata": {
  "kernelspec": {
   "display_name": "fpds",
   "language": "python",
   "name": "python3"
  },
  "language_info": {
   "codemirror_mode": {
    "name": "ipython",
    "version": 3
   },
   "file_extension": ".py",
   "mimetype": "text/x-python",
   "name": "python",
   "nbconvert_exporter": "python",
   "pygments_lexer": "ipython3",
   "version": "3.9.15"
  },
  "orig_nbformat": 4,
  "vscode": {
   "interpreter": {
    "hash": "ba7e9f4964f105db5d476a6bf9b47e70d0bf16854eb8b7ea4fd7f47088c3e55f"
   }
  }
 },
 "nbformat": 4,
 "nbformat_minor": 2
}
